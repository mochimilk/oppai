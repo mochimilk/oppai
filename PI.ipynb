{
 "cells": [
  {
   "cell_type": "markdown",
   "metadata": {},
   "source": [
    "# &pi; in Julia言語\n",
    "[Some fun with π in Julia](https://julialang.org/blog/2017/03/piday) ( [Simon Byrne](https://github.com/simonbyrne), [Luis Benet](https://github.com/lbenet), [David P. Sanders](http://sistemas.fciencias.unam.mx/~dsanders/) ) の邦訳です。おつ&pi;！"
   ]
  },
  {
   "cell_type": "markdown",
   "metadata": {},
   "source": [
    "## &pi; in Julia言語\n",
    "\n",
    "他の多くの言語と同様、Juliaにも定数&pi;が存在します。 しかし、Juliaでの&pi;の取り扱いは少し特別です。"
   ]
  },
  {
   "cell_type": "code",
   "execution_count": 1,
   "metadata": {
    "collapsed": false
   },
   "outputs": [
    {
     "data": {
      "text/plain": [
       "π = 3.1415926535897..."
      ]
     },
     "execution_count": 1,
     "metadata": {},
     "output_type": "execute_result"
    }
   ],
   "source": [
    "pi"
   ]
  },
  {
   "cell_type": "markdown",
   "metadata": {},
   "source": [
    "以下の様に、ユニコード記号で表すこともできます (REPLやJupyter notebookを使用している場合、TeXの様に`\\pi`と入力後、Tabキーで自動補完されます)"
   ]
  },
  {
   "cell_type": "code",
   "execution_count": 2,
   "metadata": {
    "collapsed": false
   },
   "outputs": [
    {
     "data": {
      "text/plain": [
       "π = 3.1415926535897..."
      ]
     },
     "execution_count": 2,
     "metadata": {},
     "output_type": "execute_result"
    }
   ],
   "source": [
    "π"
   ]
  },
  {
   "cell_type": "markdown",
   "metadata": {},
   "source": [
    "float型変数とは表記が異なることに気が付きましたか？実はJuliaでは&pi;はfloat型ではないのです。"
   ]
  },
  {
   "cell_type": "code",
   "execution_count": 3,
   "metadata": {
    "collapsed": false
   },
   "outputs": [
    {
     "data": {
      "text/plain": [
       "Irrational{:π}"
      ]
     },
     "execution_count": 3,
     "metadata": {},
     "output_type": "execute_result"
    }
   ],
   "source": [
    "typeof(pi)"
   ]
  },
  {
   "cell_type": "markdown",
   "metadata": {},
   "source": [
    "&pi;をはじめとする一部の無理数定数は`Float64`型ではなく、`Irrational`型という特殊な型になっています。この型は通常の数値の様に振舞いますが、計算途中で丸めが行われることなく浮動小数点型に変換される特徴を持っています。"
   ]
  },
  {
   "cell_type": "code",
   "execution_count": 4,
   "metadata": {
    "collapsed": false
   },
   "outputs": [
    {
     "data": {
      "text/plain": [
       "4.141592653589793"
      ]
     },
     "execution_count": 4,
     "metadata": {},
     "output_type": "execute_result"
    }
   ],
   "source": [
    "1 + pi # 整数型はデフォルトでFloat64型に変換されます"
   ]
  },
  {
   "cell_type": "code",
   "execution_count": 5,
   "metadata": {
    "collapsed": false
   },
   "outputs": [
    {
     "data": {
      "text/plain": [
       "4.141593f0"
      ]
     },
     "execution_count": 5,
     "metadata": {},
     "output_type": "execute_result"
    }
   ],
   "source": [
    "Float32(1) + pi # Float32型との演算"
   ]
  },
  {
   "cell_type": "markdown",
   "metadata": {},
   "source": [
    "この性質は特に`BigFloat`型と演算する際に役立ちます。`Float64`型に精度が打ち切られる事無く、全桁を評価することができます。"
   ]
  },
  {
   "cell_type": "code",
   "execution_count": 6,
   "metadata": {
    "collapsed": false
   },
   "outputs": [
    {
     "data": {
      "text/plain": [
       "4.141592653589793238462643383279502884197169399375105820974944592307816406286198"
      ]
     },
     "execution_count": 6,
     "metadata": {},
     "output_type": "execute_result"
    }
   ],
   "source": [
    "BigFloat(1) + pi # BigFloat型デフォルトの256bitまで計算"
   ]
  },
  {
   "cell_type": "markdown",
   "metadata": {},
   "source": [
    "If &pi; were stored as a `Float64`, we would instead get\n",
    "\n",
    "もし、&pi;を`Float64`型として扱ってしまうと、以下の様になってしまいます"
   ]
  },
  {
   "cell_type": "code",
   "execution_count": 7,
   "metadata": {
    "collapsed": false
   },
   "outputs": [
    {
     "data": {
      "text/plain": [
       "4.141592653589793115997963468544185161590576171875000000000000000000000000000000"
      ]
     },
     "execution_count": 7,
     "metadata": {},
     "output_type": "execute_result"
    }
   ],
   "source": [
    "BigFloat(1) + Float64(pi)"
   ]
  },
  {
   "cell_type": "markdown",
   "metadata": {},
   "source": [
    "`BigFloat`型 ([MPFR](http://www.mpfr.org) libraryを使用しています) は`setprecision`関数を使用することで、任意の精度で計算することができます。"
   ]
  },
  {
   "cell_type": "code",
   "execution_count": 8,
   "metadata": {
    "collapsed": false
   },
   "outputs": [
    {
     "data": {
      "text/plain": [
       "3.141592653589793238462643383279502884197169399375105820974944592307816406286208998628034825342117067982148086513282306647093844609550582231725359408128481117450284102701938521105559644622948954930381964428810975665933446128475648233786783165271201909145648566923460348610454326648213393607260249141273724586997"
      ]
     },
     "execution_count": 8,
     "metadata": {},
     "output_type": "execute_result"
    }
   ],
   "source": [
    "# 1024bitに変換\n",
    "setprecision(BigFloat, 1024) do \n",
    "    BigFloat(pi)\n",
    "end"
   ]
  },
  {
   "cell_type": "markdown",
   "metadata": {},
   "source": [
    "最後数桁は`BigFloat`型内部でバイナリ形式から十進数形式に変換する際に、多少値が変わってしまう事に注意しましょう。"
   ]
  },
  {
   "cell_type": "markdown",
   "metadata": {},
   "source": [
    "`Irrational`型のもう一つの便利な特性は、不等号を正確に扱えることでしょう。"
   ]
  },
  {
   "cell_type": "code",
   "execution_count": 9,
   "metadata": {
    "collapsed": false
   },
   "outputs": [
    {
     "data": {
      "text/plain": [
       "true"
      ]
     },
     "execution_count": 9,
     "metadata": {},
     "output_type": "execute_result"
    }
   ],
   "source": [
    "Float64(pi) < pi < nextfloat(Float64(pi))"
   ]
  },
  {
   "cell_type": "markdown",
   "metadata": {},
   "source": [
    "## &pi; via インラインアセンブラ\n",
    "\n",
    "\n",
    "Juliaは低レベルの`llvmcall`インターフェースを実装しています。この機能を使用すると、インラインアセンブラの様な[LLVM中間言語](http://llvm.org/docs/LangRef.html)を直接使用することができます。次の例では、`fldpi`命令 (\"Floating point LoaD PI\"命令) を使用して、定数&pi;を浮動小数点レジスタにロードします (x86 および x86_64 アーキテクチャでのみ動作します)"
   ]
  },
  {
   "cell_type": "code",
   "execution_count": 10,
   "metadata": {
    "collapsed": false
   },
   "outputs": [
    {
     "data": {
      "text/plain": [
       "asm_pi (generic function with 1 method)"
      ]
     },
     "execution_count": 10,
     "metadata": {},
     "output_type": "execute_result"
    }
   ],
   "source": [
    "function asm_pi()\n",
    "    Base.llvmcall(\n",
    "    \"\"\" %pi = call double asm \"fldpi\", \"={st}\"()\n",
    "        ret double %pi\"\"\", \n",
    "    Float64, Tuple{})\n",
    "end"
   ]
  },
  {
   "cell_type": "code",
   "execution_count": 11,
   "metadata": {
    "collapsed": false
   },
   "outputs": [
    {
     "data": {
      "text/plain": [
       "3.141592653589793"
      ]
     },
     "execution_count": 11,
     "metadata": {},
     "output_type": "execute_result"
    }
   ],
   "source": [
    "asm_pi()"
   ]
  },
  {
   "cell_type": "markdown",
   "metadata": {},
   "source": [
    "実際に生成されるアセンブラコードを見ることもできます。"
   ]
  },
  {
   "cell_type": "code",
   "execution_count": 12,
   "metadata": {
    "collapsed": false
   },
   "outputs": [
    {
     "name": "stdout",
     "output_type": "stream",
     "text": [
      "\t.text\n",
      "Filename: In[10]\n",
      "\tpushq\t%rbp\n",
      "\tmovq\t%rsp, %rbp\n",
      "Source line: 2\n",
      "\tpushq\t%rax\n",
      "\tfldpi\n",
      "\tfstpl\t-8(%rbp)\n",
      "\tmovsd\t-8(%rbp), %xmm0         # xmm0 = mem[0],zero\n",
      "\taddq\t$8, %rsp\n",
      "\tpopq\t%rbp\n",
      "\tretq\n",
      "\tnopw\t%cs:(%rax,%rax)\n"
     ]
    }
   ],
   "source": [
    "@code_native asm_pi()"
   ]
  },
  {
   "cell_type": "markdown",
   "metadata": {
    "deletable": true,
    "editable": true
   },
   "source": [
    "## テイラー展開による &pi;\n",
    "\n",
    "ここでは [TaylorSeries.jl](https://github.com/JuliaDiff/TaylorSeries.jl) パッケージを使用し、Taylor展開を用いてを&pi;評価する方法を示します。"
   ]
  },
  {
   "cell_type": "code",
   "execution_count": 13,
   "metadata": {
    "collapsed": false,
    "deletable": true,
    "editable": true
   },
   "outputs": [],
   "source": [
    "# Pkg.add(\"TaylorSeries\")\n",
    "using TaylorSeries"
   ]
  },
  {
   "cell_type": "markdown",
   "metadata": {
    "deletable": true,
    "editable": true
   },
   "source": [
    "### Madhavaの公式\n",
    "\n",
    "三角関数の基本等式に次のような式があります。\n",
    "$$ \\tan\\left( \\frac{\\pi}{6} \\right) = \\frac{1}{\\sqrt{3}}. $$\n",
    "$6 \\arctan(x)$ をテイラー展開し、$1/\\sqrt{3}$ を代入すれば $\\pi$の値が得られそうですね。実際、この式は収束することが知られています。"
   ]
  },
  {
   "cell_type": "markdown",
   "metadata": {
    "deletable": true,
    "editable": true
   },
   "source": [
    "`BigFloat`型を使用して、37次までテイラー展開してみましょう。"
   ]
  },
  {
   "cell_type": "code",
   "execution_count": 14,
   "metadata": {
    "collapsed": false,
    "deletable": true,
    "editable": true
   },
   "outputs": [
    {
     "data": {
      "text/plain": [
       " 6//1 t - 2//1 t³ + 6//5 t⁵ - 6//7 t⁷ + 2//3 t⁹ - 6//11 t¹¹ + 6//13 t¹³ - 2//5 t¹⁵ + 6//17 t¹⁷ - 6//19 t¹⁹ + 2//7 t²¹ - 6//23 t²³ + 6//25 t²⁵ - 2//9 t²⁷ + 6//29 t²⁹ - 6//31 t³¹ + 2//11 t³³ - 6//35 t³⁵ + 6//37 t³⁷ + 𝒪(t³⁸)"
      ]
     },
     "execution_count": 14,
     "metadata": {},
     "output_type": "execute_result"
    }
   ],
   "source": [
    "series1 = 6atan( Taylor1(BigFloat, 37) )\n",
    "convert(Taylor1{Rational{BigInt}},series1)"
   ]
  },
  {
   "cell_type": "markdown",
   "metadata": {
    "deletable": true,
    "editable": true
   },
   "source": [
    "このテイラー展開では奇数乗の項のみ考えればよいので、項が18個しか現れない事に注意しましょう。\n",
    "\n",
    "$1/\\sqrt{3}$についてこの式を評価すると、次の値が得られます。"
   ]
  },
  {
   "cell_type": "code",
   "execution_count": 15,
   "metadata": {
    "collapsed": false,
    "deletable": true,
    "editable": true
   },
   "outputs": [
    {
     "data": {
      "text/plain": [
       "3.141592653647826046431202390582141253830948237428790668441592864548346569098516"
      ]
     },
     "execution_count": 15,
     "metadata": {},
     "output_type": "execute_result"
    }
   ],
   "source": [
    "pi_approx1 = evaluate(series1, 1/sqrt(big(3)))"
   ]
  },
  {
   "cell_type": "markdown",
   "metadata": {
    "deletable": true,
    "editable": true
   },
   "source": [
    "実際の$\\pi$との誤差を計算してみましょう。"
   ]
  },
  {
   "cell_type": "code",
   "execution_count": 16,
   "metadata": {
    "collapsed": false,
    "deletable": true,
    "editable": true
   },
   "outputs": [
    {
     "data": {
      "text/plain": [
       "5.803280796855900730263836963377883805368484746664827224053016281231814650118929e-11"
      ]
     },
     "execution_count": 16,
     "metadata": {},
     "output_type": "execute_result"
    }
   ],
   "source": [
    "abs(pi - pi_approx1)"
   ]
  },
  {
   "cell_type": "markdown",
   "metadata": {
    "deletable": true,
    "editable": true
   },
   "source": [
    "より高次のテイラー展開を使えば、より正確な解が得られます。"
   ]
  },
  {
   "cell_type": "code",
   "execution_count": 17,
   "metadata": {
    "collapsed": false,
    "deletable": true,
    "editable": true
   },
   "outputs": [
    {
     "data": {
      "text/plain": [
       "3.141592653589793238462643347272152237127662423839333289949470742535834074912581"
      ]
     },
     "execution_count": 17,
     "metadata": {},
     "output_type": "execute_result"
    }
   ],
   "source": [
    "series2 = 6atan( Taylor1(BigFloat,99) ) # 49個の項が得られます\n",
    "pi_approx2 = evaluate(series2, 1/sqrt(BigInt(3)))"
   ]
  },
  {
   "cell_type": "code",
   "execution_count": 18,
   "metadata": {
    "collapsed": false,
    "deletable": true,
    "editable": true
   },
   "outputs": [
    {
     "data": {
      "text/plain": [
       "3.600735064706950697553577253102547384977198233137361734413175534929622111373249e-26"
      ]
     },
     "execution_count": 18,
     "metadata": {},
     "output_type": "execute_result"
    }
   ],
   "source": [
    "abs(pi - pi_approx2)"
   ]
  },
  {
   "cell_type": "markdown",
   "metadata": {
    "deletable": true,
    "editable": true
   },
   "source": [
    "この公式は [*Madhava級数* または *Gregory–Leibniz級数*](https://en.wikipedia.org/wiki/Madhava_series#Another_formula_for_the_circumference_of_a_circle)として知られています。\n",
    "\n",
    "\\begin{equation}\n",
    "\\pi = 6 \\sum_{n=0}^{\\infty} (-1)^n \\frac{(1/\\sqrt{3})^{2n+1}}{2n+1}.\n",
    "\\end{equation}"
   ]
  },
  {
   "cell_type": "markdown",
   "metadata": {
    "deletable": true,
    "editable": true
   },
   "source": [
    "### Machinのアプローチ\n",
    "\n",
    "[John Machin](https://ja.wikipedia.org/wiki/%E3%82%B8%E3%83%A7%E3%83%B3%E3%83%BB%E3%83%9E%E3%83%81%E3%83%B3#.E3.83.9E.E3.83.81.E3.83.B3.E3.81.AE.E5.85.AC.E5.BC.8F) は次の等式を使用することで、テイラー展開を使用しながらはるかに早く収束するアルゴリズムを提案しています。\n",
    "\n",
    "\\begin{equation}\n",
    "\\frac{\\pi}{4} = 4 \\arctan\\left(\\frac{1}{5}\\right) - \\arctan\\left(\\frac{1}{239}\\right).\n",
    "\\end{equation}"
   ]
  },
  {
   "cell_type": "markdown",
   "metadata": {
    "deletable": true,
    "editable": true
   },
   "source": [
    "上記と同様に、37次までテイラー展開してみましょう。"
   ]
  },
  {
   "cell_type": "code",
   "execution_count": 19,
   "metadata": {
    "collapsed": false,
    "deletable": true,
    "editable": true
   },
   "outputs": [
    {
     "data": {
      "text/plain": [
       "3.141592653589793238462643383496777424642594661632063407072684671069773618535135"
      ]
     },
     "execution_count": 19,
     "metadata": {},
     "output_type": "execute_result"
    }
   ],
   "source": [
    "ser = atan( Taylor1(BigFloat, 37) )\n",
    "pi_approx3 = 4*( 4*evaluate(ser, 1/big(5)) - evaluate(ser, 1/big(239)) )"
   ]
  },
  {
   "cell_type": "code",
   "execution_count": 20,
   "metadata": {
    "collapsed": false,
    "deletable": true,
    "editable": true
   },
   "outputs": [
    {
     "data": {
      "text/plain": [
       "2.17274540445425262256957586097740078761957212248936631045983596428448951876822e-28"
      ]
     },
     "execution_count": 20,
     "metadata": {},
     "output_type": "execute_result"
    }
   ],
   "source": [
    "abs(pi - pi_approx3)"
   ]
  },
  {
   "cell_type": "markdown",
   "metadata": {},
   "source": [
    "## Finding guaranteed bounds on &pi;\n",
    "\n",
    "WIP..."
   ]
  },
  {
   "cell_type": "markdown",
   "metadata": {},
   "source": [
    "## Summing a series using interval arithmetic\n",
    "\n",
    "WIP..."
   ]
  },
  {
   "cell_type": "markdown",
   "metadata": {},
   "source": [
    "## 面積の計算\n",
    "\n",
    "このセクションでは、もっと簡単な方法で$\\pi$を計算してみます。半径$r$の円の面積は $A(r) = \\pi r^2$ となるので、 $ r=2$ の円を四等分すると、その面積は$\\pi$と等しくなります。"
   ]
  },
  {
   "cell_type": "code",
   "execution_count": 21,
   "metadata": {
    "collapsed": false
   },
   "outputs": [],
   "source": [
    "# Pkg.add(\"Plots\")\n",
    "# Pkg.add(\"GR\")\n",
    "using Plots; gr();"
   ]
  },
  {
   "cell_type": "code",
   "execution_count": 22,
   "metadata": {
    "collapsed": false
   },
   "outputs": [
    {
     "data": {
      "text/plain": [
       "f (generic function with 1 method)"
      ]
     },
     "execution_count": 22,
     "metadata": {},
     "output_type": "execute_result"
    }
   ],
   "source": [
    "f(x) = √(4 - x^2)"
   ]
  },
  {
   "cell_type": "code",
   "execution_count": 23,
   "metadata": {
    "collapsed": false
   },
   "outputs": [
    {
     "data": {
      "text/html": [
       "<?xml version=\"1.0\" encoding=\"utf-8\"?>\n",
       "<svg xmlns=\"http://www.w3.org/2000/svg\" xmlns:xlink=\"http://www.w3.org/1999/xlink\" width=\"600\" height=\"400\" viewBox=\"0 0 600 400\">\n",
       "<defs>\n",
       "  <clipPath id=\"clip00\">\n",
       "    <rect x=\"0\" y=\"0\" width=\"600\" height=\"400\"/>\n",
       "  </clipPath>\n",
       "</defs>\n",
       "<polygon clip-path=\"url(#clip00)\" points=\"\n",
       "0,400 600,400 600,0 0,0 \n",
       "  \" fill=\"#ffffff\" fill-opacity=\"1\"/>\n",
       "<defs>\n",
       "  <clipPath id=\"clip01\">\n",
       "    <rect x=\"120\" y=\"0\" width=\"421\" height=\"400\"/>\n",
       "  </clipPath>\n",
       "</defs>\n",
       "<polygon clip-path=\"url(#clip00)\" points=\"\n",
       "125.283,384.952 501.384,384.952 501.384,3.93701 125.283,3.93701 \n",
       "  \" fill=\"#ffffff\" fill-opacity=\"1\"/>\n",
       "<defs>\n",
       "  <clipPath id=\"clip02\">\n",
       "    <rect x=\"125\" y=\"3\" width=\"377\" height=\"382\"/>\n",
       "  </clipPath>\n",
       "</defs>\n",
       "<polyline clip-path=\"url(#clip02)\" style=\"stroke:#00002d; stroke-width:0.8; stroke-opacity:0.5; fill:none\" stroke-dasharray=\"1, 2\" points=\"\n",
       "  216.82,379.237 216.82,9.65223 \n",
       "  \"/>\n",
       "<polyline clip-path=\"url(#clip02)\" style=\"stroke:#00002d; stroke-width:0.8; stroke-opacity:0.5; fill:none\" stroke-dasharray=\"1, 2\" points=\"\n",
       "  312.078,379.237 312.078,9.65223 \n",
       "  \"/>\n",
       "<polyline clip-path=\"url(#clip02)\" style=\"stroke:#00002d; stroke-width:0.8; stroke-opacity:0.5; fill:none\" stroke-dasharray=\"1, 2\" points=\"\n",
       "  407.336,379.237 407.336,9.65223 \n",
       "  \"/>\n",
       "<polyline clip-path=\"url(#clip02)\" style=\"stroke:#00002d; stroke-width:0.8; stroke-opacity:0.5; fill:none\" stroke-dasharray=\"1, 2\" points=\"\n",
       "  130.924,384.952 495.742,384.952 \n",
       "  \"/>\n",
       "<polyline clip-path=\"url(#clip02)\" style=\"stroke:#00002d; stroke-width:0.8; stroke-opacity:0.5; fill:none\" stroke-dasharray=\"1, 2\" points=\"\n",
       "  130.924,289.694 495.742,289.694 \n",
       "  \"/>\n",
       "<polyline clip-path=\"url(#clip02)\" style=\"stroke:#00002d; stroke-width:0.8; stroke-opacity:0.5; fill:none\" stroke-dasharray=\"1, 2\" points=\"\n",
       "  130.924,194.435 495.742,194.435 \n",
       "  \"/>\n",
       "<polyline clip-path=\"url(#clip02)\" style=\"stroke:#00002d; stroke-width:0.8; stroke-opacity:0.5; fill:none\" stroke-dasharray=\"1, 2\" points=\"\n",
       "  130.924,99.1771 495.742,99.1771 \n",
       "  \"/>\n",
       "<polyline clip-path=\"url(#clip02)\" style=\"stroke:#00002d; stroke-width:0.8; stroke-opacity:1; fill:none\" points=\"\n",
       "  125.283,384.952 501.384,384.952 \n",
       "  \"/>\n",
       "<polyline clip-path=\"url(#clip02)\" style=\"stroke:#00002d; stroke-width:0.8; stroke-opacity:1; fill:none\" points=\"\n",
       "  216.82,384.952 216.82,379.237 \n",
       "  \"/>\n",
       "<polyline clip-path=\"url(#clip02)\" style=\"stroke:#00002d; stroke-width:0.8; stroke-opacity:1; fill:none\" points=\"\n",
       "  312.078,384.952 312.078,379.237 \n",
       "  \"/>\n",
       "<polyline clip-path=\"url(#clip02)\" style=\"stroke:#00002d; stroke-width:0.8; stroke-opacity:1; fill:none\" points=\"\n",
       "  407.336,384.952 407.336,379.237 \n",
       "  \"/>\n",
       "<polyline clip-path=\"url(#clip02)\" style=\"stroke:#00002d; stroke-width:0.8; stroke-opacity:1; fill:none\" points=\"\n",
       "  125.283,384.952 125.283,3.93701 \n",
       "  \"/>\n",
       "<polyline clip-path=\"url(#clip02)\" style=\"stroke:#00002d; stroke-width:0.8; stroke-opacity:1; fill:none\" points=\"\n",
       "  125.283,384.952 130.924,384.952 \n",
       "  \"/>\n",
       "<polyline clip-path=\"url(#clip02)\" style=\"stroke:#00002d; stroke-width:0.8; stroke-opacity:1; fill:none\" points=\"\n",
       "  125.283,289.694 130.924,289.694 \n",
       "  \"/>\n",
       "<polyline clip-path=\"url(#clip02)\" style=\"stroke:#00002d; stroke-width:0.8; stroke-opacity:1; fill:none\" points=\"\n",
       "  125.283,194.435 130.924,194.435 \n",
       "  \"/>\n",
       "<polyline clip-path=\"url(#clip02)\" style=\"stroke:#00002d; stroke-width:0.8; stroke-opacity:1; fill:none\" points=\"\n",
       "  125.283,99.1771 130.924,99.1771 \n",
       "  \"/>\n",
       "<g clip-path=\"url(#clip00)\">\n",
       "<text style=\"fill:#00002d; fill-opacity:1; font-family:Arial,Helvetica Neue,Helvetica,sans-serif; font-size:12; text-anchor:middle;\" transform=\"rotate(0, 216.82, 396.952)\" x=\"216.82\" y=\"396.952\">0.5</text>\n",
       "</g>\n",
       "<g clip-path=\"url(#clip00)\">\n",
       "<text style=\"fill:#00002d; fill-opacity:1; font-family:Arial,Helvetica Neue,Helvetica,sans-serif; font-size:12; text-anchor:middle;\" transform=\"rotate(0, 312.078, 396.952)\" x=\"312.078\" y=\"396.952\">1.0</text>\n",
       "</g>\n",
       "<g clip-path=\"url(#clip00)\">\n",
       "<text style=\"fill:#00002d; fill-opacity:1; font-family:Arial,Helvetica Neue,Helvetica,sans-serif; font-size:12; text-anchor:middle;\" transform=\"rotate(0, 407.336, 396.952)\" x=\"407.336\" y=\"396.952\">1.5</text>\n",
       "</g>\n",
       "<g clip-path=\"url(#clip00)\">\n",
       "<text style=\"fill:#00002d; fill-opacity:1; font-family:Arial,Helvetica Neue,Helvetica,sans-serif; font-size:12; text-anchor:end;\" transform=\"rotate(0, 124.083, 389.452)\" x=\"124.083\" y=\"389.452\">0.0</text>\n",
       "</g>\n",
       "<g clip-path=\"url(#clip00)\">\n",
       "<text style=\"fill:#00002d; fill-opacity:1; font-family:Arial,Helvetica Neue,Helvetica,sans-serif; font-size:12; text-anchor:end;\" transform=\"rotate(0, 124.083, 294.194)\" x=\"124.083\" y=\"294.194\">0.5</text>\n",
       "</g>\n",
       "<g clip-path=\"url(#clip00)\">\n",
       "<text style=\"fill:#00002d; fill-opacity:1; font-family:Arial,Helvetica Neue,Helvetica,sans-serif; font-size:12; text-anchor:end;\" transform=\"rotate(0, 124.083, 198.935)\" x=\"124.083\" y=\"198.935\">1.0</text>\n",
       "</g>\n",
       "<g clip-path=\"url(#clip00)\">\n",
       "<text style=\"fill:#00002d; fill-opacity:1; font-family:Arial,Helvetica Neue,Helvetica,sans-serif; font-size:12; text-anchor:end;\" transform=\"rotate(0, 124.083, 103.677)\" x=\"124.083\" y=\"103.677\">1.5</text>\n",
       "</g>\n",
       "<polygon clip-path=\"url(#clip02)\" points=\"\n",
       "125.283,3.93701 159.69,5.83128 180.367,8.48391 197.849,11.6338 216.84,16.0233 234.347,20.9937 253.117,27.3498 274.864,36.1189 294.191,45.2676 311.138,54.4265 \n",
       "  329.615,65.7341 348.202,78.6508 368.752,94.9811 388.305,112.86 408.636,134.403 425.75,155.483 436.197,170.031 446.644,186.187 456.465,203.221 466.285,222.62 \n",
       "  474.152,240.5 482.019,261.433 485.952,273.57 489.885,287.362 493.819,303.645 497.752,324.397 498.963,332.468 500.173,342.064 501.384,354.602 501.384,384.952 \n",
       "  500.173,384.952 498.963,384.952 497.752,384.952 493.819,384.952 489.885,384.952 485.952,384.952 482.019,384.952 474.152,384.952 466.285,384.952 456.465,384.952 \n",
       "  446.644,384.952 436.197,384.952 425.75,384.952 408.636,384.952 388.305,384.952 368.752,384.952 348.202,384.952 329.615,384.952 311.138,384.952 294.191,384.952 \n",
       "  274.864,384.952 253.117,384.952 234.347,384.952 216.84,384.952 197.849,384.952 180.367,384.952 159.69,384.952 125.283,384.952 \n",
       "  \" fill=\"#ffa500\" fill-opacity=\"0.2\"/>\n",
       "<polyline clip-path=\"url(#clip02)\" style=\"stroke:#0099ff; stroke-width:0.8; stroke-opacity:0.2; fill:none\" points=\"\n",
       "  125.283,3.93701 159.69,5.83128 180.367,8.48391 197.849,11.6338 216.84,16.0233 234.347,20.9937 253.117,27.3498 274.864,36.1189 294.191,45.2676 311.138,54.4265 \n",
       "  329.615,65.7341 348.202,78.6508 368.752,94.9811 388.305,112.86 408.636,134.403 425.75,155.483 436.197,170.031 446.644,186.187 456.465,203.221 466.285,222.62 \n",
       "  474.152,240.5 482.019,261.433 485.952,273.57 489.885,287.362 493.819,303.645 497.752,324.397 498.963,332.468 500.173,342.064 501.384,354.602 \n",
       "  \"/>\n",
       "</svg>\n"
      ]
     },
     "execution_count": 23,
     "metadata": {},
     "output_type": "execute_result"
    }
   ],
   "source": [
    "plot(f, 0, 2, aspect_ratio=:equal, fill=(0, :orange), alpha=0.2, label=\"\")"
   ]
  },
  {
   "cell_type": "markdown",
   "metadata": {},
   "source": [
    "The circle of radius $r=2$ is given by $x^2 + y^2 = 2^2 = 4$, so \n",
    "\n",
    "半径 $r=2$ の円は $x^2 + y^2 = 2^2 = 4$ と表せるため、$\\pi$ は\n",
    "\n",
    "$$\\pi = \\frac{1}{4} A(2) = \\int_{x=0}^2 y(x) \\, dx = \\int_{x=0}^2 \\sqrt{4 - x^2}.$$\n",
    "\n",
    "となります。"
   ]
  },
  {
   "cell_type": "markdown",
   "metadata": {},
   "source": [
    "微分積分学の応用として、積分を**リーマン和**を用いて近似してみましょう。区間演算を使用すると、以下の様にリーマン和をシンプルかつ厳密に表現することができます。\n",
    "\n",
    "試しにx軸を等間隔で分割してみましょう。"
   ]
  },
  {
   "cell_type": "code",
   "execution_count": 24,
   "metadata": {
    "collapsed": false
   },
   "outputs": [
    {
     "data": {
      "text/plain": [
       "10-element Array{ValidatedNumerics.Interval{Float64},1}:\n",
       " [0, 0.200001]          \n",
       "    [0.199999, 0.400001]\n",
       "    [0.399999, 0.600001]\n",
       "    [0.599999, 0.800001]\n",
       "    [0.799999, 1]       \n",
       " [1, 1.20001]           \n",
       "    [1.19999, 1.40001]  \n",
       "    [1.39999, 1.60001]  \n",
       "    [1.59999, 1.80001]  \n",
       "    [1.79999, 2]        "
      ]
     },
     "execution_count": 24,
     "metadata": {},
     "output_type": "execute_result"
    }
   ],
   "source": [
    "#Pkg.add(\"ValidatedNumerics\")\n",
    "using ValidatedNumerics\n",
    "\n",
    "function make_intervals(N=10)\n",
    "    xs = linspace(0, 2, N+1)\n",
    "    return [xs[i]..xs[i+1] for i in 1:length(xs)-1]\n",
    "end\n",
    "\n",
    "intervals = make_intervals()"
   ]
  },
  {
   "cell_type": "markdown",
   "metadata": {},
   "source": [
    "ある区間の関数の値は以下の様にして得られます。"
   ]
  },
  {
   "cell_type": "code",
   "execution_count": 25,
   "metadata": {
    "collapsed": false
   },
   "outputs": [
    {
     "data": {
      "text/plain": [
       "[0, 0.200001]"
      ]
     },
     "execution_count": 25,
     "metadata": {},
     "output_type": "execute_result"
    }
   ],
   "source": [
    "II = intervals[1]"
   ]
  },
  {
   "cell_type": "code",
   "execution_count": 26,
   "metadata": {
    "collapsed": false
   },
   "outputs": [
    {
     "data": {
      "text/plain": [
       "[1.98997, 2]"
      ]
     },
     "execution_count": 26,
     "metadata": {},
     "output_type": "execute_result"
    }
   ],
   "source": [
    "f(II)"
   ]
  },
  {
   "cell_type": "markdown",
   "metadata": {},
   "source": [
    "ある区間における関数値の下限上限は、リーマン積分の箱の下限上限に対応しています。\n"
   ]
  },
  {
   "cell_type": "code",
   "execution_count": 27,
   "metadata": {
    "collapsed": false
   },
   "outputs": [
    {
     "data": {
      "text/html": [
       "<?xml version=\"1.0\" encoding=\"utf-8\"?>\n",
       "<svg xmlns=\"http://www.w3.org/2000/svg\" xmlns:xlink=\"http://www.w3.org/1999/xlink\" width=\"600\" height=\"400\" viewBox=\"0 0 600 400\">\n",
       "<defs>\n",
       "  <clipPath id=\"clip00\">\n",
       "    <rect x=\"0\" y=\"0\" width=\"600\" height=\"400\"/>\n",
       "  </clipPath>\n",
       "</defs>\n",
       "<polygon clip-path=\"url(#clip00)\" points=\"\n",
       "0,400 600,400 600,0 0,0 \n",
       "  \" fill=\"#ffffff\" fill-opacity=\"1\"/>\n",
       "<defs>\n",
       "  <clipPath id=\"clip01\">\n",
       "    <rect x=\"120\" y=\"0\" width=\"421\" height=\"400\"/>\n",
       "  </clipPath>\n",
       "</defs>\n",
       "<polygon clip-path=\"url(#clip00)\" points=\"\n",
       "122.826,384.952 503.841,384.952 503.841,3.93701 122.826,3.93701 \n",
       "  \" fill=\"#ffffff\" fill-opacity=\"1\"/>\n",
       "<defs>\n",
       "  <clipPath id=\"clip02\">\n",
       "    <rect x=\"122\" y=\"3\" width=\"382\" height=\"382\"/>\n",
       "  </clipPath>\n",
       "</defs>\n",
       "<polyline clip-path=\"url(#clip02)\" style=\"stroke:#00002d; stroke-width:0.8; stroke-opacity:0.5; fill:none\" stroke-dasharray=\"1, 2\" points=\"\n",
       "  122.826,379.237 122.826,9.65223 \n",
       "  \"/>\n",
       "<polyline clip-path=\"url(#clip02)\" style=\"stroke:#00002d; stroke-width:0.8; stroke-opacity:0.5; fill:none\" stroke-dasharray=\"1, 2\" points=\"\n",
       "  218.08,379.237 218.08,9.65223 \n",
       "  \"/>\n",
       "<polyline clip-path=\"url(#clip02)\" style=\"stroke:#00002d; stroke-width:0.8; stroke-opacity:0.5; fill:none\" stroke-dasharray=\"1, 2\" points=\"\n",
       "  313.333,379.237 313.333,9.65223 \n",
       "  \"/>\n",
       "<polyline clip-path=\"url(#clip02)\" style=\"stroke:#00002d; stroke-width:0.8; stroke-opacity:0.5; fill:none\" stroke-dasharray=\"1, 2\" points=\"\n",
       "  408.587,379.237 408.587,9.65223 \n",
       "  \"/>\n",
       "<polyline clip-path=\"url(#clip02)\" style=\"stroke:#00002d; stroke-width:0.8; stroke-opacity:0.5; fill:none\" stroke-dasharray=\"1, 2\" points=\"\n",
       "  503.841,379.237 503.841,9.65223 \n",
       "  \"/>\n",
       "<polyline clip-path=\"url(#clip02)\" style=\"stroke:#00002d; stroke-width:0.8; stroke-opacity:0.5; fill:none\" stroke-dasharray=\"1, 2\" points=\"\n",
       "  128.541,384.952 498.126,384.952 \n",
       "  \"/>\n",
       "<polyline clip-path=\"url(#clip02)\" style=\"stroke:#00002d; stroke-width:0.8; stroke-opacity:0.5; fill:none\" stroke-dasharray=\"1, 2\" points=\"\n",
       "  128.541,289.698 498.126,289.698 \n",
       "  \"/>\n",
       "<polyline clip-path=\"url(#clip02)\" style=\"stroke:#00002d; stroke-width:0.8; stroke-opacity:0.5; fill:none\" stroke-dasharray=\"1, 2\" points=\"\n",
       "  128.541,194.444 498.126,194.444 \n",
       "  \"/>\n",
       "<polyline clip-path=\"url(#clip02)\" style=\"stroke:#00002d; stroke-width:0.8; stroke-opacity:0.5; fill:none\" stroke-dasharray=\"1, 2\" points=\"\n",
       "  128.541,99.1907 498.126,99.1907 \n",
       "  \"/>\n",
       "<polyline clip-path=\"url(#clip02)\" style=\"stroke:#00002d; stroke-width:0.8; stroke-opacity:0.5; fill:none\" stroke-dasharray=\"1, 2\" points=\"\n",
       "  128.541,3.93701 498.126,3.93701 \n",
       "  \"/>\n",
       "<polyline clip-path=\"url(#clip02)\" style=\"stroke:#00002d; stroke-width:0.8; stroke-opacity:1; fill:none\" points=\"\n",
       "  122.826,384.952 503.841,384.952 \n",
       "  \"/>\n",
       "<polyline clip-path=\"url(#clip02)\" style=\"stroke:#00002d; stroke-width:0.8; stroke-opacity:1; fill:none\" points=\"\n",
       "  122.826,384.952 122.826,379.237 \n",
       "  \"/>\n",
       "<polyline clip-path=\"url(#clip02)\" style=\"stroke:#00002d; stroke-width:0.8; stroke-opacity:1; fill:none\" points=\"\n",
       "  218.08,384.952 218.08,379.237 \n",
       "  \"/>\n",
       "<polyline clip-path=\"url(#clip02)\" style=\"stroke:#00002d; stroke-width:0.8; stroke-opacity:1; fill:none\" points=\"\n",
       "  313.333,384.952 313.333,379.237 \n",
       "  \"/>\n",
       "<polyline clip-path=\"url(#clip02)\" style=\"stroke:#00002d; stroke-width:0.8; stroke-opacity:1; fill:none\" points=\"\n",
       "  408.587,384.952 408.587,379.237 \n",
       "  \"/>\n",
       "<polyline clip-path=\"url(#clip02)\" style=\"stroke:#00002d; stroke-width:0.8; stroke-opacity:1; fill:none\" points=\"\n",
       "  503.841,384.952 503.841,379.237 \n",
       "  \"/>\n",
       "<polyline clip-path=\"url(#clip02)\" style=\"stroke:#00002d; stroke-width:0.8; stroke-opacity:1; fill:none\" points=\"\n",
       "  122.826,384.952 122.826,3.93701 \n",
       "  \"/>\n",
       "<polyline clip-path=\"url(#clip02)\" style=\"stroke:#00002d; stroke-width:0.8; stroke-opacity:1; fill:none\" points=\"\n",
       "  122.826,384.952 128.541,384.952 \n",
       "  \"/>\n",
       "<polyline clip-path=\"url(#clip02)\" style=\"stroke:#00002d; stroke-width:0.8; stroke-opacity:1; fill:none\" points=\"\n",
       "  122.826,289.698 128.541,289.698 \n",
       "  \"/>\n",
       "<polyline clip-path=\"url(#clip02)\" style=\"stroke:#00002d; stroke-width:0.8; stroke-opacity:1; fill:none\" points=\"\n",
       "  122.826,194.444 128.541,194.444 \n",
       "  \"/>\n",
       "<polyline clip-path=\"url(#clip02)\" style=\"stroke:#00002d; stroke-width:0.8; stroke-opacity:1; fill:none\" points=\"\n",
       "  122.826,99.1907 128.541,99.1907 \n",
       "  \"/>\n",
       "<polyline clip-path=\"url(#clip02)\" style=\"stroke:#00002d; stroke-width:0.8; stroke-opacity:1; fill:none\" points=\"\n",
       "  122.826,3.93701 128.541,3.93701 \n",
       "  \"/>\n",
       "<g clip-path=\"url(#clip00)\">\n",
       "<text style=\"fill:#00002d; fill-opacity:1; font-family:Arial,Helvetica Neue,Helvetica,sans-serif; font-size:12; text-anchor:middle;\" transform=\"rotate(0, 122.826, 396.952)\" x=\"122.826\" y=\"396.952\">0.0</text>\n",
       "</g>\n",
       "<g clip-path=\"url(#clip00)\">\n",
       "<text style=\"fill:#00002d; fill-opacity:1; font-family:Arial,Helvetica Neue,Helvetica,sans-serif; font-size:12; text-anchor:middle;\" transform=\"rotate(0, 218.08, 396.952)\" x=\"218.08\" y=\"396.952\">0.5</text>\n",
       "</g>\n",
       "<g clip-path=\"url(#clip00)\">\n",
       "<text style=\"fill:#00002d; fill-opacity:1; font-family:Arial,Helvetica Neue,Helvetica,sans-serif; font-size:12; text-anchor:middle;\" transform=\"rotate(0, 313.333, 396.952)\" x=\"313.333\" y=\"396.952\">1.0</text>\n",
       "</g>\n",
       "<g clip-path=\"url(#clip00)\">\n",
       "<text style=\"fill:#00002d; fill-opacity:1; font-family:Arial,Helvetica Neue,Helvetica,sans-serif; font-size:12; text-anchor:middle;\" transform=\"rotate(0, 408.587, 396.952)\" x=\"408.587\" y=\"396.952\">1.5</text>\n",
       "</g>\n",
       "<g clip-path=\"url(#clip00)\">\n",
       "<text style=\"fill:#00002d; fill-opacity:1; font-family:Arial,Helvetica Neue,Helvetica,sans-serif; font-size:12; text-anchor:middle;\" transform=\"rotate(0, 503.841, 396.952)\" x=\"503.841\" y=\"396.952\">2.0</text>\n",
       "</g>\n",
       "<g clip-path=\"url(#clip00)\">\n",
       "<text style=\"fill:#00002d; fill-opacity:1; font-family:Arial,Helvetica Neue,Helvetica,sans-serif; font-size:12; text-anchor:end;\" transform=\"rotate(0, 121.626, 389.452)\" x=\"121.626\" y=\"389.452\">0.0</text>\n",
       "</g>\n",
       "<g clip-path=\"url(#clip00)\">\n",
       "<text style=\"fill:#00002d; fill-opacity:1; font-family:Arial,Helvetica Neue,Helvetica,sans-serif; font-size:12; text-anchor:end;\" transform=\"rotate(0, 121.626, 294.198)\" x=\"121.626\" y=\"294.198\">0.5</text>\n",
       "</g>\n",
       "<g clip-path=\"url(#clip00)\">\n",
       "<text style=\"fill:#00002d; fill-opacity:1; font-family:Arial,Helvetica Neue,Helvetica,sans-serif; font-size:12; text-anchor:end;\" transform=\"rotate(0, 121.626, 198.944)\" x=\"121.626\" y=\"198.944\">1.0</text>\n",
       "</g>\n",
       "<g clip-path=\"url(#clip00)\">\n",
       "<text style=\"fill:#00002d; fill-opacity:1; font-family:Arial,Helvetica Neue,Helvetica,sans-serif; font-size:12; text-anchor:end;\" transform=\"rotate(0, 121.626, 103.691)\" x=\"121.626\" y=\"103.691\">1.5</text>\n",
       "</g>\n",
       "<g clip-path=\"url(#clip00)\">\n",
       "<text style=\"fill:#00002d; fill-opacity:1; font-family:Arial,Helvetica Neue,Helvetica,sans-serif; font-size:12; text-anchor:end;\" transform=\"rotate(0, 121.626, 8.43701)\" x=\"121.626\" y=\"8.43701\">2.0</text>\n",
       "</g>\n",
       "<polygon clip-path=\"url(#clip02)\" points=\"\n",
       "122.826,384.952 135.526,384.952 135.526,4.14874 122.826,4.14874 122.826,384.952 \n",
       "  \" fill=\"#0000ff\" fill-opacity=\"0.5\"/>\n",
       "<polyline clip-path=\"url(#clip02)\" style=\"stroke:#00002d; stroke-width:0.8; stroke-opacity:0.5; fill:none\" points=\"\n",
       "  122.826,384.952 135.526,384.952 135.526,4.14874 122.826,4.14874 122.826,384.952 \n",
       "  \"/>\n",
       "<polygon clip-path=\"url(#clip02)\" points=\"\n",
       "122.826,4.14874 135.526,4.14874 135.526,3.93701 122.826,3.93701 122.826,4.14874 \n",
       "  \" fill=\"#ff0000\" fill-opacity=\"0.5\"/>\n",
       "<polyline clip-path=\"url(#clip02)\" style=\"stroke:#00002d; stroke-width:0.8; stroke-opacity:0.5; fill:none\" points=\"\n",
       "  122.826,4.14874 135.526,4.14874 135.526,3.93701 122.826,3.93701 122.826,4.14874 \n",
       "  \"/>\n",
       "<polygon clip-path=\"url(#clip02)\" points=\"\n",
       "135.526,384.952 148.227,384.952 148.227,4.78465 135.526,4.78465 135.526,384.952 \n",
       "  \" fill=\"#0000ff\" fill-opacity=\"0.5\"/>\n",
       "<polyline clip-path=\"url(#clip02)\" style=\"stroke:#00002d; stroke-width:0.8; stroke-opacity:0.5; fill:none\" points=\"\n",
       "  135.526,384.952 148.227,384.952 148.227,4.78465 135.526,4.78465 135.526,384.952 \n",
       "  \"/>\n",
       "<polygon clip-path=\"url(#clip02)\" points=\"\n",
       "135.526,4.78465 148.227,4.78465 148.227,4.14874 135.526,4.14874 135.526,4.78465 \n",
       "  \" fill=\"#ff0000\" fill-opacity=\"0.5\"/>\n",
       "<polyline clip-path=\"url(#clip02)\" style=\"stroke:#00002d; stroke-width:0.8; stroke-opacity:0.5; fill:none\" points=\"\n",
       "  135.526,4.78465 148.227,4.78465 148.227,4.14874 135.526,4.14874 135.526,4.78465 \n",
       "  \"/>\n",
       "<polygon clip-path=\"url(#clip02)\" points=\"\n",
       "148.227,384.952 160.927,384.952 160.927,5.84687 148.227,5.84687 148.227,384.952 \n",
       "  \" fill=\"#0000ff\" fill-opacity=\"0.5\"/>\n",
       "<polyline clip-path=\"url(#clip02)\" style=\"stroke:#00002d; stroke-width:0.8; stroke-opacity:0.5; fill:none\" points=\"\n",
       "  148.227,384.952 160.927,384.952 160.927,5.84687 148.227,5.84687 148.227,384.952 \n",
       "  \"/>\n",
       "<polygon clip-path=\"url(#clip02)\" points=\"\n",
       "148.227,5.84687 160.927,5.84687 160.927,4.78465 148.227,4.78465 148.227,5.84687 \n",
       "  \" fill=\"#ff0000\" fill-opacity=\"0.5\"/>\n",
       "<polyline clip-path=\"url(#clip02)\" style=\"stroke:#00002d; stroke-width:0.8; stroke-opacity:0.5; fill:none\" points=\"\n",
       "  148.227,5.84687 160.927,5.84687 160.927,4.78465 148.227,4.78465 148.227,5.84687 \n",
       "  \"/>\n",
       "<polygon clip-path=\"url(#clip02)\" points=\"\n",
       "160.927,384.952 173.628,384.952 173.628,7.33899 160.927,7.33899 160.927,384.952 \n",
       "  \" fill=\"#0000ff\" fill-opacity=\"0.5\"/>\n",
       "<polyline clip-path=\"url(#clip02)\" style=\"stroke:#00002d; stroke-width:0.8; stroke-opacity:0.5; fill:none\" points=\"\n",
       "  160.927,384.952 173.628,384.952 173.628,7.33899 160.927,7.33899 160.927,384.952 \n",
       "  \"/>\n",
       "<polygon clip-path=\"url(#clip02)\" points=\"\n",
       "160.927,7.33899 173.628,7.33899 173.628,5.84687 160.927,5.84687 160.927,7.33899 \n",
       "  \" fill=\"#ff0000\" fill-opacity=\"0.5\"/>\n",
       "<polyline clip-path=\"url(#clip02)\" style=\"stroke:#00002d; stroke-width:0.8; stroke-opacity:0.5; fill:none\" points=\"\n",
       "  160.927,7.33899 173.628,7.33899 173.628,5.84687 160.927,5.84687 160.927,7.33899 \n",
       "  \"/>\n",
       "<polygon clip-path=\"url(#clip02)\" points=\"\n",
       "173.628,384.952 186.328,384.952 186.328,9.26615 173.628,9.26615 173.628,384.952 \n",
       "  \" fill=\"#0000ff\" fill-opacity=\"0.5\"/>\n",
       "<polyline clip-path=\"url(#clip02)\" style=\"stroke:#00002d; stroke-width:0.8; stroke-opacity:0.5; fill:none\" points=\"\n",
       "  173.628,384.952 186.328,384.952 186.328,9.26615 173.628,9.26615 173.628,384.952 \n",
       "  \"/>\n",
       "<polygon clip-path=\"url(#clip02)\" points=\"\n",
       "173.628,9.26615 186.328,9.26615 186.328,7.33899 173.628,7.33899 173.628,9.26615 \n",
       "  \" fill=\"#ff0000\" fill-opacity=\"0.5\"/>\n",
       "<polyline clip-path=\"url(#clip02)\" style=\"stroke:#00002d; stroke-width:0.8; stroke-opacity:0.5; fill:none\" points=\"\n",
       "  173.628,9.26615 186.328,9.26615 186.328,7.33899 173.628,7.33899 173.628,9.26615 \n",
       "  \"/>\n",
       "<polygon clip-path=\"url(#clip02)\" points=\"\n",
       "186.328,384.952 199.029,384.952 199.029,11.6351 186.328,11.6351 186.328,384.952 \n",
       "  \" fill=\"#0000ff\" fill-opacity=\"0.5\"/>\n",
       "<polyline clip-path=\"url(#clip02)\" style=\"stroke:#00002d; stroke-width:0.8; stroke-opacity:0.5; fill:none\" points=\"\n",
       "  186.328,384.952 199.029,384.952 199.029,11.6351 186.328,11.6351 186.328,384.952 \n",
       "  \"/>\n",
       "<polygon clip-path=\"url(#clip02)\" points=\"\n",
       "186.328,11.6351 199.029,11.6351 199.029,9.26615 186.328,9.26615 186.328,11.6351 \n",
       "  \" fill=\"#ff0000\" fill-opacity=\"0.5\"/>\n",
       "<polyline clip-path=\"url(#clip02)\" style=\"stroke:#00002d; stroke-width:0.8; stroke-opacity:0.5; fill:none\" points=\"\n",
       "  186.328,11.6351 199.029,11.6351 199.029,9.26615 186.328,9.26615 186.328,11.6351 \n",
       "  \"/>\n",
       "<polygon clip-path=\"url(#clip02)\" points=\"\n",
       "199.029,384.952 211.729,384.952 211.729,14.4542 199.029,14.4542 199.029,384.952 \n",
       "  \" fill=\"#0000ff\" fill-opacity=\"0.5\"/>\n",
       "<polyline clip-path=\"url(#clip02)\" style=\"stroke:#00002d; stroke-width:0.8; stroke-opacity:0.5; fill:none\" points=\"\n",
       "  199.029,384.952 211.729,384.952 211.729,14.4542 199.029,14.4542 199.029,384.952 \n",
       "  \"/>\n",
       "<polygon clip-path=\"url(#clip02)\" points=\"\n",
       "199.029,14.4542 211.729,14.4542 211.729,11.6351 199.029,11.6351 199.029,14.4542 \n",
       "  \" fill=\"#ff0000\" fill-opacity=\"0.5\"/>\n",
       "<polyline clip-path=\"url(#clip02)\" style=\"stroke:#00002d; stroke-width:0.8; stroke-opacity:0.5; fill:none\" points=\"\n",
       "  199.029,14.4542 211.729,14.4542 211.729,11.6351 199.029,11.6351 199.029,14.4542 \n",
       "  \"/>\n",
       "<polygon clip-path=\"url(#clip02)\" points=\"\n",
       "211.729,384.952 224.43,384.952 224.43,17.734 211.729,17.734 211.729,384.952 \n",
       "  \" fill=\"#0000ff\" fill-opacity=\"0.5\"/>\n",
       "<polyline clip-path=\"url(#clip02)\" style=\"stroke:#00002d; stroke-width:0.8; stroke-opacity:0.5; fill:none\" points=\"\n",
       "  211.729,384.952 224.43,384.952 224.43,17.734 211.729,17.734 211.729,384.952 \n",
       "  \"/>\n",
       "<polygon clip-path=\"url(#clip02)\" points=\"\n",
       "211.729,17.734 224.43,17.734 224.43,14.4542 211.729,14.4542 211.729,17.734 \n",
       "  \" fill=\"#ff0000\" fill-opacity=\"0.5\"/>\n",
       "<polyline clip-path=\"url(#clip02)\" style=\"stroke:#00002d; stroke-width:0.8; stroke-opacity:0.5; fill:none\" points=\"\n",
       "  211.729,17.734 224.43,17.734 224.43,14.4542 211.729,14.4542 211.729,17.734 \n",
       "  \"/>\n",
       "<polygon clip-path=\"url(#clip02)\" points=\"\n",
       "224.43,384.952 237.13,384.952 237.13,21.4869 224.43,21.4869 224.43,384.952 \n",
       "  \" fill=\"#0000ff\" fill-opacity=\"0.5\"/>\n",
       "<polyline clip-path=\"url(#clip02)\" style=\"stroke:#00002d; stroke-width:0.8; stroke-opacity:0.5; fill:none\" points=\"\n",
       "  224.43,384.952 237.13,384.952 237.13,21.4869 224.43,21.4869 224.43,384.952 \n",
       "  \"/>\n",
       "<polygon clip-path=\"url(#clip02)\" points=\"\n",
       "224.43,21.4869 237.13,21.4869 237.13,17.734 224.43,17.734 224.43,21.4869 \n",
       "  \" fill=\"#ff0000\" fill-opacity=\"0.5\"/>\n",
       "<polyline clip-path=\"url(#clip02)\" style=\"stroke:#00002d; stroke-width:0.8; stroke-opacity:0.5; fill:none\" points=\"\n",
       "  224.43,21.4869 237.13,21.4869 237.13,17.734 224.43,17.734 224.43,21.4869 \n",
       "  \"/>\n",
       "<polygon clip-path=\"url(#clip02)\" points=\"\n",
       "237.13,384.952 249.831,384.952 249.831,25.7276 237.13,25.7276 237.13,384.952 \n",
       "  \" fill=\"#0000ff\" fill-opacity=\"0.5\"/>\n",
       "<polyline clip-path=\"url(#clip02)\" style=\"stroke:#00002d; stroke-width:0.8; stroke-opacity:0.5; fill:none\" points=\"\n",
       "  237.13,384.952 249.831,384.952 249.831,25.7276 237.13,25.7276 237.13,384.952 \n",
       "  \"/>\n",
       "<polygon clip-path=\"url(#clip02)\" points=\"\n",
       "237.13,25.7276 249.831,25.7276 249.831,21.4869 237.13,21.4869 237.13,25.7276 \n",
       "  \" fill=\"#ff0000\" fill-opacity=\"0.5\"/>\n",
       "<polyline clip-path=\"url(#clip02)\" style=\"stroke:#00002d; stroke-width:0.8; stroke-opacity:0.5; fill:none\" points=\"\n",
       "  237.13,25.7276 249.831,25.7276 249.831,21.4869 237.13,21.4869 237.13,25.7276 \n",
       "  \"/>\n",
       "<polygon clip-path=\"url(#clip02)\" points=\"\n",
       "249.831,384.952 262.531,384.952 262.531,30.4738 249.831,30.4738 249.831,384.952 \n",
       "  \" fill=\"#0000ff\" fill-opacity=\"0.5\"/>\n",
       "<polyline clip-path=\"url(#clip02)\" style=\"stroke:#00002d; stroke-width:0.8; stroke-opacity:0.5; fill:none\" points=\"\n",
       "  249.831,384.952 262.531,384.952 262.531,30.4738 249.831,30.4738 249.831,384.952 \n",
       "  \"/>\n",
       "<polygon clip-path=\"url(#clip02)\" points=\"\n",
       "249.831,30.4738 262.531,30.4738 262.531,25.7276 249.831,25.7276 249.831,30.4738 \n",
       "  \" fill=\"#ff0000\" fill-opacity=\"0.5\"/>\n",
       "<polyline clip-path=\"url(#clip02)\" style=\"stroke:#00002d; stroke-width:0.8; stroke-opacity:0.5; fill:none\" points=\"\n",
       "  249.831,30.4738 262.531,30.4738 262.531,25.7276 249.831,25.7276 249.831,30.4738 \n",
       "  \"/>\n",
       "<polygon clip-path=\"url(#clip02)\" points=\"\n",
       "262.531,384.952 275.232,384.952 275.232,35.746 262.531,35.746 262.531,384.952 \n",
       "  \" fill=\"#0000ff\" fill-opacity=\"0.5\"/>\n",
       "<polyline clip-path=\"url(#clip02)\" style=\"stroke:#00002d; stroke-width:0.8; stroke-opacity:0.5; fill:none\" points=\"\n",
       "  262.531,384.952 275.232,384.952 275.232,35.746 262.531,35.746 262.531,384.952 \n",
       "  \"/>\n",
       "<polygon clip-path=\"url(#clip02)\" points=\"\n",
       "262.531,35.746 275.232,35.746 275.232,30.4738 262.531,30.4738 262.531,35.746 \n",
       "  \" fill=\"#ff0000\" fill-opacity=\"0.5\"/>\n",
       "<polyline clip-path=\"url(#clip02)\" style=\"stroke:#00002d; stroke-width:0.8; stroke-opacity:0.5; fill:none\" points=\"\n",
       "  262.531,35.746 275.232,35.746 275.232,30.4738 262.531,30.4738 262.531,35.746 \n",
       "  \"/>\n",
       "<polygon clip-path=\"url(#clip02)\" points=\"\n",
       "275.232,384.952 287.932,384.952 287.932,41.5684 275.232,41.5684 275.232,384.952 \n",
       "  \" fill=\"#0000ff\" fill-opacity=\"0.5\"/>\n",
       "<polyline clip-path=\"url(#clip02)\" style=\"stroke:#00002d; stroke-width:0.8; stroke-opacity:0.5; fill:none\" points=\"\n",
       "  275.232,384.952 287.932,384.952 287.932,41.5684 275.232,41.5684 275.232,384.952 \n",
       "  \"/>\n",
       "<polygon clip-path=\"url(#clip02)\" points=\"\n",
       "275.232,41.5684 287.932,41.5684 287.932,35.746 275.232,35.746 275.232,41.5684 \n",
       "  \" fill=\"#ff0000\" fill-opacity=\"0.5\"/>\n",
       "<polyline clip-path=\"url(#clip02)\" style=\"stroke:#00002d; stroke-width:0.8; stroke-opacity:0.5; fill:none\" points=\"\n",
       "  275.232,41.5684 287.932,41.5684 287.932,35.746 275.232,35.746 275.232,41.5684 \n",
       "  \"/>\n",
       "<polygon clip-path=\"url(#clip02)\" points=\"\n",
       "287.932,384.952 300.633,384.952 300.633,47.9696 287.932,47.9696 287.932,384.952 \n",
       "  \" fill=\"#0000ff\" fill-opacity=\"0.5\"/>\n",
       "<polyline clip-path=\"url(#clip02)\" style=\"stroke:#00002d; stroke-width:0.8; stroke-opacity:0.5; fill:none\" points=\"\n",
       "  287.932,384.952 300.633,384.952 300.633,47.9696 287.932,47.9696 287.932,384.952 \n",
       "  \"/>\n",
       "<polygon clip-path=\"url(#clip02)\" points=\"\n",
       "287.932,47.9696 300.633,47.9696 300.633,41.5684 287.932,41.5684 287.932,47.9696 \n",
       "  \" fill=\"#ff0000\" fill-opacity=\"0.5\"/>\n",
       "<polyline clip-path=\"url(#clip02)\" style=\"stroke:#00002d; stroke-width:0.8; stroke-opacity:0.5; fill:none\" points=\"\n",
       "  287.932,47.9696 300.633,47.9696 300.633,41.5684 287.932,41.5684 287.932,47.9696 \n",
       "  \"/>\n",
       "<polygon clip-path=\"url(#clip02)\" points=\"\n",
       "300.633,384.952 313.333,384.952 313.333,54.9833 300.633,54.9833 300.633,384.952 \n",
       "  \" fill=\"#0000ff\" fill-opacity=\"0.5\"/>\n",
       "<polyline clip-path=\"url(#clip02)\" style=\"stroke:#00002d; stroke-width:0.8; stroke-opacity:0.5; fill:none\" points=\"\n",
       "  300.633,384.952 313.333,384.952 313.333,54.9833 300.633,54.9833 300.633,384.952 \n",
       "  \"/>\n",
       "<polygon clip-path=\"url(#clip02)\" points=\"\n",
       "300.633,54.9833 313.333,54.9833 313.333,47.9696 300.633,47.9696 300.633,54.9833 \n",
       "  \" fill=\"#ff0000\" fill-opacity=\"0.5\"/>\n",
       "<polyline clip-path=\"url(#clip02)\" style=\"stroke:#00002d; stroke-width:0.8; stroke-opacity:0.5; fill:none\" points=\"\n",
       "  300.633,54.9833 313.333,54.9833 313.333,47.9696 300.633,47.9696 300.633,54.9833 \n",
       "  \"/>\n",
       "<polygon clip-path=\"url(#clip02)\" points=\"\n",
       "313.333,384.952 326.034,384.952 326.034,62.6494 313.333,62.6494 313.333,384.952 \n",
       "  \" fill=\"#0000ff\" fill-opacity=\"0.5\"/>\n",
       "<polyline clip-path=\"url(#clip02)\" style=\"stroke:#00002d; stroke-width:0.8; stroke-opacity:0.5; fill:none\" points=\"\n",
       "  313.333,384.952 326.034,384.952 326.034,62.6494 313.333,62.6494 313.333,384.952 \n",
       "  \"/>\n",
       "<polygon clip-path=\"url(#clip02)\" points=\"\n",
       "313.333,62.6494 326.034,62.6494 326.034,54.9833 313.333,54.9833 313.333,62.6494 \n",
       "  \" fill=\"#ff0000\" fill-opacity=\"0.5\"/>\n",
       "<polyline clip-path=\"url(#clip02)\" style=\"stroke:#00002d; stroke-width:0.8; stroke-opacity:0.5; fill:none\" points=\"\n",
       "  313.333,62.6494 326.034,62.6494 326.034,54.9833 313.333,54.9833 313.333,62.6494 \n",
       "  \"/>\n",
       "<polygon clip-path=\"url(#clip02)\" points=\"\n",
       "326.034,384.952 338.734,384.952 338.734,71.0158 326.034,71.0158 326.034,384.952 \n",
       "  \" fill=\"#0000ff\" fill-opacity=\"0.5\"/>\n",
       "<polyline clip-path=\"url(#clip02)\" style=\"stroke:#00002d; stroke-width:0.8; stroke-opacity:0.5; fill:none\" points=\"\n",
       "  326.034,384.952 338.734,384.952 338.734,71.0158 326.034,71.0158 326.034,384.952 \n",
       "  \"/>\n",
       "<polygon clip-path=\"url(#clip02)\" points=\"\n",
       "326.034,71.0158 338.734,71.0158 338.734,62.6494 326.034,62.6494 326.034,71.0158 \n",
       "  \" fill=\"#ff0000\" fill-opacity=\"0.5\"/>\n",
       "<polyline clip-path=\"url(#clip02)\" style=\"stroke:#00002d; stroke-width:0.8; stroke-opacity:0.5; fill:none\" points=\"\n",
       "  326.034,71.0158 338.734,71.0158 338.734,62.6494 326.034,62.6494 326.034,71.0158 \n",
       "  \"/>\n",
       "<polygon clip-path=\"url(#clip02)\" points=\"\n",
       "338.734,384.952 351.435,384.952 351.435,80.14 338.734,80.14 338.734,384.952 \n",
       "  \" fill=\"#0000ff\" fill-opacity=\"0.5\"/>\n",
       "<polyline clip-path=\"url(#clip02)\" style=\"stroke:#00002d; stroke-width:0.8; stroke-opacity:0.5; fill:none\" points=\"\n",
       "  338.734,384.952 351.435,384.952 351.435,80.14 338.734,80.14 338.734,384.952 \n",
       "  \"/>\n",
       "<polygon clip-path=\"url(#clip02)\" points=\"\n",
       "338.734,80.14 351.435,80.14 351.435,71.0158 338.734,71.0158 338.734,80.14 \n",
       "  \" fill=\"#ff0000\" fill-opacity=\"0.5\"/>\n",
       "<polyline clip-path=\"url(#clip02)\" style=\"stroke:#00002d; stroke-width:0.8; stroke-opacity:0.5; fill:none\" points=\"\n",
       "  338.734,80.14 351.435,80.14 351.435,71.0158 338.734,71.0158 338.734,80.14 \n",
       "  \"/>\n",
       "<polygon clip-path=\"url(#clip02)\" points=\"\n",
       "351.435,384.952 364.135,384.952 364.135,90.0924 351.435,90.0924 351.435,384.952 \n",
       "  \" fill=\"#0000ff\" fill-opacity=\"0.5\"/>\n",
       "<polyline clip-path=\"url(#clip02)\" style=\"stroke:#00002d; stroke-width:0.8; stroke-opacity:0.5; fill:none\" points=\"\n",
       "  351.435,384.952 364.135,384.952 364.135,90.0924 351.435,90.0924 351.435,384.952 \n",
       "  \"/>\n",
       "<polygon clip-path=\"url(#clip02)\" points=\"\n",
       "351.435,90.0924 364.135,90.0924 364.135,80.14 351.435,80.14 351.435,90.0924 \n",
       "  \" fill=\"#ff0000\" fill-opacity=\"0.5\"/>\n",
       "<polyline clip-path=\"url(#clip02)\" style=\"stroke:#00002d; stroke-width:0.8; stroke-opacity:0.5; fill:none\" points=\"\n",
       "  351.435,90.0924 364.135,90.0924 364.135,80.14 351.435,80.14 351.435,90.0924 \n",
       "  \"/>\n",
       "<polygon clip-path=\"url(#clip02)\" points=\"\n",
       "364.135,384.952 376.836,384.952 376.836,100.96 364.135,100.96 364.135,384.952 \n",
       "  \" fill=\"#0000ff\" fill-opacity=\"0.5\"/>\n",
       "<polyline clip-path=\"url(#clip02)\" style=\"stroke:#00002d; stroke-width:0.8; stroke-opacity:0.5; fill:none\" points=\"\n",
       "  364.135,384.952 376.836,384.952 376.836,100.96 364.135,100.96 364.135,384.952 \n",
       "  \"/>\n",
       "<polygon clip-path=\"url(#clip02)\" points=\"\n",
       "364.135,100.96 376.836,100.96 376.836,90.0924 364.135,90.0924 364.135,100.96 \n",
       "  \" fill=\"#ff0000\" fill-opacity=\"0.5\"/>\n",
       "<polyline clip-path=\"url(#clip02)\" style=\"stroke:#00002d; stroke-width:0.8; stroke-opacity:0.5; fill:none\" points=\"\n",
       "  364.135,100.96 376.836,100.96 376.836,90.0924 364.135,90.0924 364.135,100.96 \n",
       "  \"/>\n",
       "<polygon clip-path=\"url(#clip02)\" points=\"\n",
       "376.836,384.952 389.536,384.952 389.536,112.853 376.836,112.853 376.836,384.952 \n",
       "  \" fill=\"#0000ff\" fill-opacity=\"0.5\"/>\n",
       "<polyline clip-path=\"url(#clip02)\" style=\"stroke:#00002d; stroke-width:0.8; stroke-opacity:0.5; fill:none\" points=\"\n",
       "  376.836,384.952 389.536,384.952 389.536,112.853 376.836,112.853 376.836,384.952 \n",
       "  \"/>\n",
       "<polygon clip-path=\"url(#clip02)\" points=\"\n",
       "376.836,112.853 389.536,112.853 389.536,100.96 376.836,100.96 376.836,112.853 \n",
       "  \" fill=\"#ff0000\" fill-opacity=\"0.5\"/>\n",
       "<polyline clip-path=\"url(#clip02)\" style=\"stroke:#00002d; stroke-width:0.8; stroke-opacity:0.5; fill:none\" points=\"\n",
       "  376.836,112.853 389.536,112.853 389.536,100.96 376.836,100.96 376.836,112.853 \n",
       "  \"/>\n",
       "<polygon clip-path=\"url(#clip02)\" points=\"\n",
       "389.536,384.952 402.237,384.952 402.237,125.912 389.536,125.912 389.536,384.952 \n",
       "  \" fill=\"#0000ff\" fill-opacity=\"0.5\"/>\n",
       "<polyline clip-path=\"url(#clip02)\" style=\"stroke:#00002d; stroke-width:0.8; stroke-opacity:0.5; fill:none\" points=\"\n",
       "  389.536,384.952 402.237,384.952 402.237,125.912 389.536,125.912 389.536,384.952 \n",
       "  \"/>\n",
       "<polygon clip-path=\"url(#clip02)\" points=\"\n",
       "389.536,125.912 402.237,125.912 402.237,112.853 389.536,112.853 389.536,125.912 \n",
       "  \" fill=\"#ff0000\" fill-opacity=\"0.5\"/>\n",
       "<polyline clip-path=\"url(#clip02)\" style=\"stroke:#00002d; stroke-width:0.8; stroke-opacity:0.5; fill:none\" points=\"\n",
       "  389.536,125.912 402.237,125.912 402.237,112.853 389.536,112.853 389.536,125.912 \n",
       "  \"/>\n",
       "<polygon clip-path=\"url(#clip02)\" points=\"\n",
       "402.237,384.952 414.937,384.952 414.937,140.323 402.237,140.323 402.237,384.952 \n",
       "  \" fill=\"#0000ff\" fill-opacity=\"0.5\"/>\n",
       "<polyline clip-path=\"url(#clip02)\" style=\"stroke:#00002d; stroke-width:0.8; stroke-opacity:0.5; fill:none\" points=\"\n",
       "  402.237,384.952 414.937,384.952 414.937,140.323 402.237,140.323 402.237,384.952 \n",
       "  \"/>\n",
       "<polygon clip-path=\"url(#clip02)\" points=\"\n",
       "402.237,140.323 414.937,140.323 414.937,125.912 402.237,125.912 402.237,140.323 \n",
       "  \" fill=\"#ff0000\" fill-opacity=\"0.5\"/>\n",
       "<polyline clip-path=\"url(#clip02)\" style=\"stroke:#00002d; stroke-width:0.8; stroke-opacity:0.5; fill:none\" points=\"\n",
       "  402.237,140.323 414.937,140.323 414.937,125.912 402.237,125.912 402.237,140.323 \n",
       "  \"/>\n",
       "<polygon clip-path=\"url(#clip02)\" points=\"\n",
       "414.937,384.952 427.638,384.952 427.638,156.343 414.937,156.343 414.937,384.952 \n",
       "  \" fill=\"#0000ff\" fill-opacity=\"0.5\"/>\n",
       "<polyline clip-path=\"url(#clip02)\" style=\"stroke:#00002d; stroke-width:0.8; stroke-opacity:0.5; fill:none\" points=\"\n",
       "  414.937,384.952 427.638,384.952 427.638,156.343 414.937,156.343 414.937,384.952 \n",
       "  \"/>\n",
       "<polygon clip-path=\"url(#clip02)\" points=\"\n",
       "414.937,156.343 427.638,156.343 427.638,140.323 414.937,140.323 414.937,156.343 \n",
       "  \" fill=\"#ff0000\" fill-opacity=\"0.5\"/>\n",
       "<polyline clip-path=\"url(#clip02)\" style=\"stroke:#00002d; stroke-width:0.8; stroke-opacity:0.5; fill:none\" points=\"\n",
       "  414.937,156.343 427.638,156.343 427.638,140.323 414.937,140.323 414.937,156.343 \n",
       "  \"/>\n",
       "<polygon clip-path=\"url(#clip02)\" points=\"\n",
       "427.638,384.952 440.338,384.952 440.338,174.338 427.638,174.338 427.638,384.952 \n",
       "  \" fill=\"#0000ff\" fill-opacity=\"0.5\"/>\n",
       "<polyline clip-path=\"url(#clip02)\" style=\"stroke:#00002d; stroke-width:0.8; stroke-opacity:0.5; fill:none\" points=\"\n",
       "  427.638,384.952 440.338,384.952 440.338,174.338 427.638,174.338 427.638,384.952 \n",
       "  \"/>\n",
       "<polygon clip-path=\"url(#clip02)\" points=\"\n",
       "427.638,174.338 440.338,174.338 440.338,156.343 427.638,156.343 427.638,174.338 \n",
       "  \" fill=\"#ff0000\" fill-opacity=\"0.5\"/>\n",
       "<polyline clip-path=\"url(#clip02)\" style=\"stroke:#00002d; stroke-width:0.8; stroke-opacity:0.5; fill:none\" points=\"\n",
       "  427.638,174.338 440.338,174.338 440.338,156.343 427.638,156.343 427.638,174.338 \n",
       "  \"/>\n",
       "<polygon clip-path=\"url(#clip02)\" points=\"\n",
       "440.338,384.952 453.039,384.952 453.039,194.868 440.338,194.868 440.338,384.952 \n",
       "  \" fill=\"#0000ff\" fill-opacity=\"0.5\"/>\n",
       "<polyline clip-path=\"url(#clip02)\" style=\"stroke:#00002d; stroke-width:0.8; stroke-opacity:0.5; fill:none\" points=\"\n",
       "  440.338,384.952 453.039,384.952 453.039,194.868 440.338,194.868 440.338,384.952 \n",
       "  \"/>\n",
       "<polygon clip-path=\"url(#clip02)\" points=\"\n",
       "440.338,194.868 453.039,194.868 453.039,174.338 440.338,174.338 440.338,194.868 \n",
       "  \" fill=\"#ff0000\" fill-opacity=\"0.5\"/>\n",
       "<polyline clip-path=\"url(#clip02)\" style=\"stroke:#00002d; stroke-width:0.8; stroke-opacity:0.5; fill:none\" points=\"\n",
       "  440.338,194.868 453.039,194.868 453.039,174.338 440.338,174.338 440.338,194.868 \n",
       "  \"/>\n",
       "<polygon clip-path=\"url(#clip02)\" points=\"\n",
       "453.039,384.952 465.739,384.952 465.739,218.871 453.039,218.871 453.039,384.952 \n",
       "  \" fill=\"#0000ff\" fill-opacity=\"0.5\"/>\n",
       "<polyline clip-path=\"url(#clip02)\" style=\"stroke:#00002d; stroke-width:0.8; stroke-opacity:0.5; fill:none\" points=\"\n",
       "  453.039,384.952 465.739,384.952 465.739,218.871 453.039,218.871 453.039,384.952 \n",
       "  \"/>\n",
       "<polygon clip-path=\"url(#clip02)\" points=\"\n",
       "453.039,218.871 465.739,218.871 465.739,194.868 453.039,194.868 453.039,218.871 \n",
       "  \" fill=\"#ff0000\" fill-opacity=\"0.5\"/>\n",
       "<polyline clip-path=\"url(#clip02)\" style=\"stroke:#00002d; stroke-width:0.8; stroke-opacity:0.5; fill:none\" points=\"\n",
       "  453.039,218.871 465.739,218.871 465.739,194.868 453.039,194.868 453.039,218.871 \n",
       "  \"/>\n",
       "<polygon clip-path=\"url(#clip02)\" points=\"\n",
       "465.739,384.952 478.44,384.952 478.44,248.163 465.739,248.163 465.739,384.952 \n",
       "  \" fill=\"#0000ff\" fill-opacity=\"0.5\"/>\n",
       "<polyline clip-path=\"url(#clip02)\" style=\"stroke:#00002d; stroke-width:0.8; stroke-opacity:0.5; fill:none\" points=\"\n",
       "  465.739,384.952 478.44,384.952 478.44,248.163 465.739,248.163 465.739,384.952 \n",
       "  \"/>\n",
       "<polygon clip-path=\"url(#clip02)\" points=\"\n",
       "465.739,248.163 478.44,248.163 478.44,218.871 465.739,218.871 465.739,248.163 \n",
       "  \" fill=\"#ff0000\" fill-opacity=\"0.5\"/>\n",
       "<polyline clip-path=\"url(#clip02)\" style=\"stroke:#00002d; stroke-width:0.8; stroke-opacity:0.5; fill:none\" points=\"\n",
       "  465.739,248.163 478.44,248.163 478.44,218.871 465.739,218.871 465.739,248.163 \n",
       "  \"/>\n",
       "<polygon clip-path=\"url(#clip02)\" points=\"\n",
       "478.44,384.952 491.14,384.952 491.14,287.398 478.44,287.398 478.44,384.952 \n",
       "  \" fill=\"#0000ff\" fill-opacity=\"0.5\"/>\n",
       "<polyline clip-path=\"url(#clip02)\" style=\"stroke:#00002d; stroke-width:0.8; stroke-opacity:0.5; fill:none\" points=\"\n",
       "  478.44,384.952 491.14,384.952 491.14,287.398 478.44,287.398 478.44,384.952 \n",
       "  \"/>\n",
       "<polygon clip-path=\"url(#clip02)\" points=\"\n",
       "478.44,287.398 491.14,287.398 491.14,248.163 478.44,248.163 478.44,287.398 \n",
       "  \" fill=\"#ff0000\" fill-opacity=\"0.5\"/>\n",
       "<polyline clip-path=\"url(#clip02)\" style=\"stroke:#00002d; stroke-width:0.8; stroke-opacity:0.5; fill:none\" points=\"\n",
       "  478.44,287.398 491.14,287.398 491.14,248.163 478.44,248.163 478.44,287.398 \n",
       "  \"/>\n",
       "<polygon clip-path=\"url(#clip02)\" points=\"\n",
       "491.14,384.952 503.841,384.952 503.841,384.952 491.14,384.952 491.14,384.952 \n",
       "  \" fill=\"#0000ff\" fill-opacity=\"0.5\"/>\n",
       "<polyline clip-path=\"url(#clip02)\" style=\"stroke:#00002d; stroke-width:0.8; stroke-opacity:0.5; fill:none\" points=\"\n",
       "  491.14,384.952 503.841,384.952 491.14,384.952 \n",
       "  \"/>\n",
       "<polygon clip-path=\"url(#clip02)\" points=\"\n",
       "491.14,384.952 503.841,384.952 503.841,287.398 491.14,287.398 491.14,384.952 \n",
       "  \" fill=\"#ff0000\" fill-opacity=\"0.5\"/>\n",
       "<polyline clip-path=\"url(#clip02)\" style=\"stroke:#00002d; stroke-width:0.8; stroke-opacity:0.5; fill:none\" points=\"\n",
       "  491.14,384.952 503.841,384.952 503.841,287.398 491.14,287.398 491.14,384.952 \n",
       "  \"/>\n",
       "<polyline clip-path=\"url(#clip02)\" style=\"stroke:#0099ff; stroke-width:0.8; stroke-opacity:1; fill:none\" points=\"\n",
       "  126.547,3.95518 160.952,5.84936 181.628,8.50187 199.11,11.6516 218.099,16.0409 235.606,21.0111 254.375,27.3669 276.121,36.1356 295.447,45.2838 312.393,54.4423 \n",
       "  330.869,65.7493 349.455,78.6654 370.005,94.9949 389.557,112.873 409.886,134.415 427,155.494 437.446,170.042 447.893,186.196 457.713,203.23 467.533,222.627 \n",
       "  475.399,240.507 483.266,261.439 487.199,273.576 491.132,287.367 495.065,303.649 498.998,324.4 500.209,332.47 501.42,342.067 502.63,354.603 \n",
       "  \"/>\n",
       "<polygon clip-path=\"url(#clip00)\" points=\"\n",
       "406.736,55.057 485.841,55.057 485.841,24.817 406.736,24.817 \n",
       "  \" fill=\"#ffffff\" fill-opacity=\"1\"/>\n",
       "<polyline clip-path=\"url(#clip00)\" style=\"stroke:#00002d; stroke-width:0.8; stroke-opacity:1; fill:none\" points=\"\n",
       "  406.736,55.057 485.841,55.057 485.841,24.817 406.736,24.817 406.736,55.057 \n",
       "  \"/>\n",
       "<polyline clip-path=\"url(#clip00)\" style=\"stroke:#0099ff; stroke-width:0.8; stroke-opacity:1; fill:none\" points=\"\n",
       "  412.736,39.937 448.736,39.937 \n",
       "  \"/>\n",
       "<g clip-path=\"url(#clip00)\">\n",
       "<text style=\"fill:#00002d; fill-opacity:1; font-family:Arial,Helvetica Neue,Helvetica,sans-serif; font-size:12; text-anchor:start;\" transform=\"rotate(0, 454.736, 44.437)\" x=\"454.736\" y=\"44.437\">y61</text>\n",
       "</g>\n",
       "</svg>\n"
      ]
     },
     "execution_count": 27,
     "metadata": {},
     "output_type": "execute_result"
    }
   ],
   "source": [
    "intervals = make_intervals(30)\n",
    "\n",
    "p = plot(aspect_ratio=:equal)\n",
    "for X in intervals\n",
    "    Y = f(X)\n",
    "    \n",
    "    plot!(IntervalBox(X, Interval(0, Y.lo)), c=:blue, label=\"\", alpha=0.1)\n",
    "    plot!(IntervalBox(X, Interval(Y.lo, Y.hi)), c=:red, label=\"\", alpha=0.1)\n",
    "end\n",
    "\n",
    "plot!(f, 0, 2)\n",
    "\n",
    "p"
   ]
  },
  {
   "cell_type": "markdown",
   "metadata": {},
   "source": [
    "早速、箱の面積の和を計算してみましょう。"
   ]
  },
  {
   "cell_type": "code",
   "execution_count": 28,
   "metadata": {
    "collapsed": false
   },
   "outputs": [
    {
     "data": {
      "text/plain": [
       "[3.02846, 3.22847]"
      ]
     },
     "execution_count": 28,
     "metadata": {},
     "output_type": "execute_result"
    }
   ],
   "source": [
    "N = 20\n",
    "intervals = make_intervals(N)\n",
    "\n",
    "width = 2/N\n",
    "width * sum(√(4 - X^2) for X in intervals)"
   ]
  },
  {
   "cell_type": "markdown",
   "metadata": {},
   "source": [
    "区間の分割数を増やすにつれ、近似がより正確になっていきます。"
   ]
  },
  {
   "cell_type": "code",
   "execution_count": 29,
   "metadata": {
    "collapsed": false,
    "scrolled": false
   },
   "outputs": [
    {
     "name": "stdout",
     "output_type": "stream",
     "text": [
      "N \t area interval \t \t diameter\n",
      "50 \t [3.09826, 3.17827] \t 0.0800000000000165\n",
      "100 \t [3.12041, 3.16042] \t 0.040000000000032454\n",
      "150 \t [3.12761, 3.15429] \t 0.02666666666670814\n",
      "200 \t [3.13117, 3.15118] \t 0.02000000000006308\n",
      "250 \t [3.13329, 3.1493] \t 0.016000000000075065\n",
      "300 \t [3.13469, 3.14804] \t 0.013333333333415354\n",
      "350 \t [3.13569, 3.14713] \t 0.011428571428676815\n",
      "400 \t [3.13644, 3.14645] \t 0.010000000000123688\n",
      "450 \t [3.13702, 3.14592] \t 0.008888888889027502\n",
      "500 \t [3.13748, 3.14549] \t 0.008000000000148333\n",
      "550 \t [3.13786, 3.14514] \t 0.007272727272884527\n",
      "600 \t [3.13817, 3.14485] \t 0.006666666666829357\n",
      "650 \t [3.13844, 3.1446] \t 0.006153846154013376\n",
      "700 \t [3.13867, 3.14439] \t 0.0057142857144931725\n",
      "750 \t [3.13886, 3.14421] \t 0.005333333333562784\n",
      "800 \t [3.13904, 3.14405] \t 0.005000000000246363\n",
      "850 \t [3.13919, 3.1439] \t 0.004705882353203794\n",
      "900 \t [3.13932, 3.14378] \t 0.004444444444719142\n",
      "950 \t [3.13944, 3.14366] \t 0.004210526316076102\n",
      "1000 \t [3.13955, 3.14356] \t 0.004000000000294435\n"
     ]
    }
   ],
   "source": [
    "#setdisplay(:standard, sigfigs=5)\n",
    "\n",
    "println(\"N \\t area interval \\t \\t diameter\")\n",
    "for N in 50:50:1000\n",
    "    intervals = make_intervals(N)\n",
    "    area = (2/N) * sum(√(4 - X^2) for X in intervals)\n",
    "            \n",
    "    println(\"$N \\t $area \\t $(diam(area))\")\n",
    "end"
   ]
  },
  {
   "cell_type": "markdown",
   "metadata": {},
   "source": [
    "Original post is [Some fun with π in Julia](https://julialang.org/blog/2017/03/piday) ( [Simon Byrne](https://github.com/simonbyrne), [Luis Benet](https://github.com/lbenet), [David P. Sanders](http://sistemas.fciencias.unam.mx/~dsanders/) ).\n",
    "\n",
    "\n",
    "> Copyright (c) 2009-2016: Jeff Bezanson, Stefan Karpinski, Viral B. Shah,\n",
    "> and other contributors:\n",
    ">\n",
    "> https://github.com/JuliaLang/julia/contributors\n",
    ">\n",
    "> Permission is hereby granted, free of charge, to any person obtaining\n",
    "> a copy of this software and associated documentation files (the\n",
    "> \"Software\"), to deal in the Software without restriction, including\n",
    "> without limitation the rights to use, copy, modify, merge, publish,\n",
    "> distribute, sublicense, and/or sell copies of the Software, and to\n",
    "> permit persons to whom the Software is furnished to do so, subject to\n",
    "> the following conditions:\n",
    ">\n",
    "> The above copyright notice and this permission notice shall be\n",
    "> included in all copies or substantial portions of the Software.\n",
    ">\n",
    "> THE SOFTWARE IS PROVIDED \"AS IS\", WITHOUT WARRANTY OF ANY KIND,\n",
    "> EXPRESS OR IMPLIED, INCLUDING BUT NOT LIMITED TO THE WARRANTIES OF\n",
    "> MERCHANTABILITY, FITNESS FOR A PARTICULAR PURPOSE AND\n",
    "> NONINFRINGEMENT. IN NO EVENT SHALL THE AUTHORS OR COPYRIGHT HOLDERS BE\n",
    "> LIABLE FOR ANY CLAIM, DAMAGES OR OTHER LIABILITY, WHETHER IN AN ACTION\n",
    "> OF CONTRACT, TORT OR OTHERWISE, ARISING FROM, OUT OF OR IN CONNECTION\n",
    "> WITH THE SOFTWARE OR THE USE OR OTHER DEALINGS IN THE SOFTWARE."
   ]
  }
 ],
 "metadata": {
  "kernelspec": {
   "display_name": "Julia 0.5.1",
   "language": "julia",
   "name": "julia-0.5"
  },
  "language_info": {
   "file_extension": ".jl",
   "mimetype": "application/julia",
   "name": "julia",
   "version": "0.5.1"
  }
 },
 "nbformat": 4,
 "nbformat_minor": 1
}
