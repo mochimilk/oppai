{
 "cells": [
  {
   "cell_type": "code",
   "execution_count": 1,
   "metadata": {},
   "outputs": [
    {
     "data": {
      "text/html": [
       "\n",
       "    <div class=\"bk-root\">\n",
       "        <a href=\"http://bokeh.pydata.org\" target=\"_blank\" class=\"bk-logo bk-logo-small bk-logo-notebook\"></a>\n",
       "        <span id=\"f7df261d-bec5-431d-8f97-51e204e756eb\">Loading BokehJS ...</span>\n",
       "    </div>"
      ]
     },
     "metadata": {},
     "output_type": "display_data"
    },
    {
     "data": {
      "application/javascript": [
       "\n",
       "(function(global) {\n",
       "  function now() {\n",
       "    return new Date();\n",
       "  }\n",
       "\n",
       "  var force = true;\n",
       "\n",
       "  if (typeof (window._bokeh_onload_callbacks) === \"undefined\" || force === true) {\n",
       "    window._bokeh_onload_callbacks = [];\n",
       "    window._bokeh_is_loading = undefined;\n",
       "  }\n",
       "\n",
       "\n",
       "  \n",
       "  if (typeof (window._bokeh_timeout) === \"undefined\" || force === true) {\n",
       "    window._bokeh_timeout = Date.now() + 5000;\n",
       "    window._bokeh_failed_load = false;\n",
       "  }\n",
       "\n",
       "  var NB_LOAD_WARNING = {'data': {'text/html':\n",
       "     \"<div style='background-color: #fdd'>\\n\"+\n",
       "     \"<p>\\n\"+\n",
       "     \"BokehJS does not appear to have successfully loaded. If loading BokehJS from CDN, this \\n\"+\n",
       "     \"may be due to a slow or bad network connection. Possible fixes:\\n\"+\n",
       "     \"</p>\\n\"+\n",
       "     \"<ul>\\n\"+\n",
       "     \"<li>re-rerun `output_notebook()` to attempt to load from CDN again, or</li>\\n\"+\n",
       "     \"<li>use INLINE resources instead, as so:</li>\\n\"+\n",
       "     \"</ul>\\n\"+\n",
       "     \"<code>\\n\"+\n",
       "     \"from bokeh.resources import INLINE\\n\"+\n",
       "     \"output_notebook(resources=INLINE)\\n\"+\n",
       "     \"</code>\\n\"+\n",
       "     \"</div>\"}};\n",
       "\n",
       "  function display_loaded() {\n",
       "    if (window.Bokeh !== undefined) {\n",
       "      var el = document.getElementById(\"f7df261d-bec5-431d-8f97-51e204e756eb\");\n",
       "      el.textContent = \"BokehJS \" + Bokeh.version + \" successfully loaded.\";\n",
       "    } else if (Date.now() < window._bokeh_timeout) {\n",
       "      setTimeout(display_loaded, 100)\n",
       "    }\n",
       "  }\n",
       "\n",
       "  function run_callbacks() {\n",
       "    window._bokeh_onload_callbacks.forEach(function(callback) { callback() });\n",
       "    delete window._bokeh_onload_callbacks\n",
       "    console.info(\"Bokeh: all callbacks have finished\");\n",
       "  }\n",
       "\n",
       "  function load_libs(js_urls, callback) {\n",
       "    window._bokeh_onload_callbacks.push(callback);\n",
       "    if (window._bokeh_is_loading > 0) {\n",
       "      console.log(\"Bokeh: BokehJS is being loaded, scheduling callback at\", now());\n",
       "      return null;\n",
       "    }\n",
       "    if (js_urls == null || js_urls.length === 0) {\n",
       "      run_callbacks();\n",
       "      return null;\n",
       "    }\n",
       "    console.log(\"Bokeh: BokehJS not loaded, scheduling load and callback at\", now());\n",
       "    window._bokeh_is_loading = js_urls.length;\n",
       "    for (var i = 0; i < js_urls.length; i++) {\n",
       "      var url = js_urls[i];\n",
       "      var s = document.createElement('script');\n",
       "      s.src = url;\n",
       "      s.async = false;\n",
       "      s.onreadystatechange = s.onload = function() {\n",
       "        window._bokeh_is_loading--;\n",
       "        if (window._bokeh_is_loading === 0) {\n",
       "          console.log(\"Bokeh: all BokehJS libraries loaded\");\n",
       "          run_callbacks()\n",
       "        }\n",
       "      };\n",
       "      s.onerror = function() {\n",
       "        console.warn(\"failed to load library \" + url);\n",
       "      };\n",
       "      console.log(\"Bokeh: injecting script tag for BokehJS library: \", url);\n",
       "      document.getElementsByTagName(\"head\")[0].appendChild(s);\n",
       "    }\n",
       "  };var element = document.getElementById(\"f7df261d-bec5-431d-8f97-51e204e756eb\");\n",
       "  if (element == null) {\n",
       "    console.log(\"Bokeh: ERROR: autoload.js configured with elementid 'f7df261d-bec5-431d-8f97-51e204e756eb' but no matching script tag was found. \")\n",
       "    return false;\n",
       "  }\n",
       "\n",
       "  var js_urls = [\"https://cdn.pydata.org/bokeh/release/bokeh-0.12.5.min.js\", \"https://cdn.pydata.org/bokeh/release/bokeh-widgets-0.12.5.min.js\"];\n",
       "\n",
       "  var inline_js = [\n",
       "    function(Bokeh) {\n",
       "      Bokeh.set_log_level(\"info\");\n",
       "    },\n",
       "    \n",
       "    function(Bokeh) {\n",
       "      \n",
       "    },\n",
       "    \n",
       "    function(Bokeh) {\n",
       "      \n",
       "      document.getElementById(\"f7df261d-bec5-431d-8f97-51e204e756eb\").textContent = \"BokehJS is loading...\";\n",
       "    },\n",
       "    function(Bokeh) {\n",
       "      console.log(\"Bokeh: injecting CSS: https://cdn.pydata.org/bokeh/release/bokeh-0.12.5.min.css\");\n",
       "      Bokeh.embed.inject_css(\"https://cdn.pydata.org/bokeh/release/bokeh-0.12.5.min.css\");\n",
       "      console.log(\"Bokeh: injecting CSS: https://cdn.pydata.org/bokeh/release/bokeh-widgets-0.12.5.min.css\");\n",
       "      Bokeh.embed.inject_css(\"https://cdn.pydata.org/bokeh/release/bokeh-widgets-0.12.5.min.css\");\n",
       "    }\n",
       "  ];\n",
       "\n",
       "  function run_inline_js() {\n",
       "    \n",
       "    if ((window.Bokeh !== undefined) || (force === true)) {\n",
       "      for (var i = 0; i < inline_js.length; i++) {\n",
       "        inline_js[i](window.Bokeh);\n",
       "      }if (force === true) {\n",
       "        display_loaded();\n",
       "      }} else if (Date.now() < window._bokeh_timeout) {\n",
       "      setTimeout(run_inline_js, 100);\n",
       "    } else if (!window._bokeh_failed_load) {\n",
       "      console.log(\"Bokeh: BokehJS failed to load within specified timeout.\");\n",
       "      window._bokeh_failed_load = true;\n",
       "    } else if (force !== true) {\n",
       "      var cell = $(document.getElementById(\"f7df261d-bec5-431d-8f97-51e204e756eb\")).parents('.cell').data().cell;\n",
       "      cell.output_area.append_execute_result(NB_LOAD_WARNING)\n",
       "    }\n",
       "\n",
       "  }\n",
       "\n",
       "  if (window._bokeh_is_loading === 0) {\n",
       "    console.log(\"Bokeh: BokehJS loaded, going straight to plotting\");\n",
       "    run_inline_js();\n",
       "  } else {\n",
       "    load_libs(js_urls, function() {\n",
       "      console.log(\"Bokeh: BokehJS plotting callback run at\", now());\n",
       "      run_inline_js();\n",
       "    });\n",
       "  }\n",
       "}(this));"
      ]
     },
     "metadata": {},
     "output_type": "display_data"
    }
   ],
   "source": [
    "\"\"\"\n",
    "社畜丼toot分析NB\n",
    "神野さん作のSQLiteDBファイル(https://1drv.ms/u/s!AgFTqyL78d4kc_Aj5ShUchymJBQ)を\n",
    "使用しています\n",
    "\"\"\"\n",
    "\n",
    "import pandas as pd\n",
    "\n",
    "import matplotlib.pyplot as plt\n",
    "from matplotlib.ticker import FormatStrFormatter\n",
    "import seaborn as sns\n",
    "%matplotlib inline\n",
    "from bokeh.plotting import figure, output_notebook, show\n",
    "output_notebook()\n",
    "\n",
    "#import matplotlib as mpl\n",
    "#print([f.name for f in mpl.font_manager.createFontList(mpl.font_manager.findSystemFonts())])\n",
    "sns.set_style(\"whitegrid\", {'grid.linestyle': '--'})\n",
    "#sns.set(font=\"DejaVu Sans\")\n",
    "#sns.set(font=\"Noto Sans CJK\")\n",
    "sns.set(font=\"IPAGothic\")"
   ]
  },
  {
   "cell_type": "code",
   "execution_count": 2,
   "metadata": {
    "collapsed": true,
    "scrolled": false
   },
   "outputs": [],
   "source": [
    "from sqlalchemy import create_engine, MetaData\n",
    "from sqlalchemy import Table, Column, Integer, String, ForeignKey\n",
    "from sqlalchemy.ext.automap import automap_base\n",
    "\n",
    "dbfile = 'tootData.db'\n",
    "tablename = 'timelines'\n",
    "\n",
    "def bind(dbfile, echo=True):\n",
    "    class Toot(object):\n",
    "        __tablename__ = tablename\n",
    "    \n",
    "    engine = create_engine(f'sqlite:///{dbfile}', echo=echo)\n",
    "    metadata = MetaData(bind=engine)\n",
    "    metadata.reflect(engine)\n",
    "    from sqlalchemy.orm import mapper\n",
    "    mapper(Toot, metadata.tables[tablename])\n",
    "    return engine, metadata, Toot\n",
    "\n",
    "try:\n",
    "    engine, metadata, Toot = bind(dbfile, False)\n",
    "except Exception:\n",
    "    # http://docs.sqlalchemy.org/en/rel_1_0/faq/ormconfiguration.html#how-do-i-map-a-table-that-has-no-primary-key\n",
    "    engine = create_engine(f'sqlite:///{dbfile}', echo=True)\n",
    "    engine.execute(f\"CREATE TABLE tmp(id INTEGER UNIQUE ON CONFLICT REPLACE PRIMARY KEY, username TEXT, toot TEXT, created_at TEXT);\")\n",
    "    engine.execute(f\"INSERT INTO tmp SELECT * FROM {tablename};\")\n",
    "    engine.execute(f\"drop table {tablename};\")\n",
    "    engine.execute(f\"ALTER TABLE tmp RENAME TO {tablename};\")\n",
    "    engine.execute(\"VACUUM;\")\n",
    "    engine, metadata, Toot = bind(dbfile, True)\n",
    "\n",
    "import emoji\n",
    "username_table = pd.read_csv(\"username_table.tsv\", header=None, delimiter='\\t')\n",
    "username_dict = dict(username_table.to_dict('split')['data'])\n",
    "for username in username_dict.keys():\n",
    "    if pd.isnull(username_dict[username]):\n",
    "        username_dict[username] = username\n",
    "    username_dict[username] = emoji.emojize(username_dict[username], use_aliases=True)"
   ]
  },
  {
   "cell_type": "code",
   "execution_count": 3,
   "metadata": {
    "collapsed": true,
    "scrolled": false
   },
   "outputs": [],
   "source": [
    "from sqlalchemy.orm import sessionmaker\n",
    "Session = sessionmaker(bind=engine)\n",
    "session = Session()\n",
    "\n",
    "def row_as_dict(r):\n",
    "    from sqlalchemy import inspect\n",
    "    return {c.key: getattr(r, c.key)\n",
    "            for c in inspect(r).mapper.column_attrs}\n",
    "def toots_as_df(toots):\n",
    "    return pd.DataFrame.from_records(map(row_as_dict, toots))"
   ]
  },
  {
   "cell_type": "code",
   "execution_count": 4,
   "metadata": {
    "collapsed": true
   },
   "outputs": [],
   "source": [
    "from sqlalchemy import and_, or_, not_\n",
    "\n",
    "all_toots = toots_as_df(session.query(Toot).all())\n",
    "oppai_toots = toots_as_df(session.query(Toot).filter(\n",
    "    or_(\n",
    "        Toot.toot.like(\"%おっぱい%\"),\n",
    "        and_(Toot.toot.like(\"%乳%\"), not_(or_(Toot.toot.like(\"%牛乳%\"), Toot.toot.like(\"豆乳\")))),\n",
    "        Toot.toot.like(\"%π%\"),\n",
    "        Toot.toot.like(\"%バスト%\"),\n",
    "        Toot.toot.like(\"%oppai%\"),\n",
    "        and_(Toot.toot.like(\"%ぱい\"), not_(Toot.toot.like(\"%いっぱい%\")))\n",
    "    )\n",
    "))\n",
    "notkws = [\"マーク\", \"スマート\", \"アーマードコア\", \"コンシューマー\", \"マーチ\", \"クレーマー\", \"グラマー\", \"マーライオン\", \"マーゲイ\",\n",
    "         \"ジャマー\", \"マーカー\", \"マーケ\", \"マージン\", \"オマージュ\", \"ママー\", \"アーマー\", \"サマー\", \"マージ\", \"ハマー\", \"ハンマー\",\n",
    "         \"マーメイド\", \"マーブル\", \"グンマー\", \"ウマー\", \"ゲーマー\", \"カスタマー\", \"コマーシャル\", \"タイマー\", \"マート\", \"クマー\",\n",
    "         \"マーン\", \"マーガリン\", \"バルマー\", \"ファーマー\", \"テルマー\", \"マーマイト\", \n",
    "         ]\n",
    "mer_toots = toots_as_df(session.query(Toot).filter(Toot.toot.like(\"%マー%\"))\n",
    "                        .filter(not_(or_(*[Toot.toot.like(f'%{keyword}%') for keyword in notkws]))))\n",
    "\n",
    "toots = {'総トゥート': all_toots, 'ぱいトゥート': oppai_toots, 'マートゥート': mer_toots}\n",
    "for _, df in toots.items():\n",
    "    df['created_at'] = pd.to_datetime(df['created_at'])"
   ]
  },
  {
   "cell_type": "code",
   "execution_count": 5,
   "metadata": {
    "scrolled": false
   },
   "outputs": [],
   "source": [
    "from ipywidgets import interact\n",
    "h = 25\n",
    "df = oppai_toots\n",
    "#@interact(n=(0, len(df.index)//h))\n",
    "#    return df[n*h:(n+1)*h]"
   ]
  },
  {
   "cell_type": "code",
   "execution_count": 6,
   "metadata": {},
   "outputs": [
    {
     "data": {
      "application/vnd.jupyter.widget-view+json": {
       "model_id": "8c7ba6f25d06444bad4fe491c09f2d03"
      }
     },
     "metadata": {},
     "output_type": "display_data"
    },
    {
     "data": {
      "text/plain": [
       "<function __main__.plot_genre_toots>"
      ]
     },
     "execution_count": 6,
     "metadata": {},
     "output_type": "execute_result"
    }
   ],
   "source": [
    "from bokeh.palettes import Dark2_5 as palette\n",
    "from ipywidgets import SelectionSlider\n",
    "\n",
    "def plot_genre_toots(timespan):\n",
    "    p = figure(plot_width=800, plot_height=250, x_axis_type=\"datetime\", title=\"ジャンル別発言数\")\n",
    "    for i, (label, df) in enumerate(toots.items()):\n",
    "        group = df.set_index('created_at').groupby(pd.TimeGrouper(timespan))['id'].count()\n",
    "        p.line(group.keys(), group.values, alpha=0.5, line_color=palette[i], legend=label)\n",
    "    show(p)\n",
    "\n",
    "timespanSlider = SelectionSlider(\n",
    "    options=['5min', '10min', '30min', '1H', '1H', '2H', '6H', '12H', 'D'],\n",
    "    value='30min',\n",
    "    description='graph timespan',\n",
    "    continuous_update=True)\n",
    "interact(plot_genre_toots, timespan=timespanSlider)"
   ]
  },
  {
   "cell_type": "code",
   "execution_count": 7,
   "metadata": {},
   "outputs": [
    {
     "data": {
      "application/vnd.jupyter.widget-view+json": {
       "model_id": "ea0d29a051934f80b20d75bd9d095386"
      }
     },
     "metadata": {},
     "output_type": "display_data"
    },
    {
     "data": {
      "text/plain": [
       "<function __main__.plot_relative_genre_toots>"
      ]
     },
     "execution_count": 7,
     "metadata": {},
     "output_type": "execute_result"
    }
   ],
   "source": [
    "def plot_relative_genre_toots(timespan):\n",
    "    p = figure(plot_width=800, plot_height=250, x_axis_type=\"datetime\", title=\"全トゥート数で正規化したジャンル別発言数\")\n",
    "    for i, (label, df) in enumerate({'ぱいトゥート': oppai_toots, 'マートゥート': mer_toots}.items()):\n",
    "        dividend = df.set_index('created_at').groupby(pd.TimeGrouper(timespan))['id'].count()\n",
    "        divisor = all_toots.set_index('created_at').groupby(pd.TimeGrouper(timespan))['id'].count()\n",
    "        group = dividend / divisor\n",
    "        p.line(group.keys(), group.values, alpha=0.5, line_color=palette[i], legend=label)\n",
    "    show(p)\n",
    "timespanSlider = SelectionSlider(\n",
    "    options=['5min', '10min', '30min', '1H', '1H', '2H', '6H', '12H', 'D'],\n",
    "    value='30min',\n",
    "    description='graph timespan',\n",
    "    continuous_update=True)\n",
    "interact(plot_relative_genre_toots, timespan=timespanSlider)"
   ]
  },
  {
   "cell_type": "code",
   "execution_count": 8,
   "metadata": {},
   "outputs": [
    {
     "data": {
      "application/vnd.jupyter.widget-view+json": {
       "model_id": "9f0d2a37b9514c2293f6cc470864767f"
      }
     },
     "metadata": {},
     "output_type": "display_data"
    }
   ],
   "source": [
    "toot_num = all_toots.groupby('username')['toot'].count().rename(username_dict).sort_values(ascending=False)\n",
    "xmax = toot_num.values[0] + 500\n",
    "\n",
    "from ipywidgets import IntSlider\n",
    "\n",
    "@interact(n=IntSlider(min=1,max=500,value=1))\n",
    "def plot_ranking(n):\n",
    "    start, end = n, n+35-1\n",
    "    plt.rcParams[\"figure.figsize\"] = (12, 8)\n",
    "    toot_ranged = toot_num[start-1:end]\n",
    "    plt.barh(range(start, end+1), toot_ranged.values, left=0, tick_label=toot_ranged.keys())\n",
    "    plt.gca().set_xlim([0, xmax])\n",
    "    plt.gca().invert_yaxis()\n",
    "    x1,x2,y1,y2 = plt.axis()\n",
    "    plt.axis((x1,x2,y1-1, y2+1))\n",
    "    plt.show()\n",
    "\n"
   ]
  },
  {
   "cell_type": "code",
   "execution_count": 9,
   "metadata": {},
   "outputs": [
    {
     "name": "stdout",
     "output_type": "stream",
     "text": [
      "Python is 👍\n"
     ]
    }
   ],
   "source": [
    "import emoji\n",
    "print(emoji.emojize('Python is :thumbsup:', use_aliases=True))"
   ]
  }
 ],
 "metadata": {
  "kernelspec": {
   "display_name": "Python 3",
   "language": "python",
   "name": "python3"
  },
  "language_info": {
   "codemirror_mode": {
    "name": "ipython",
    "version": 3
   },
   "file_extension": ".py",
   "mimetype": "text/x-python",
   "name": "python",
   "nbconvert_exporter": "python",
   "pygments_lexer": "ipython3",
   "version": "3.6.1"
  }
 },
 "nbformat": 4,
 "nbformat_minor": 2
}
